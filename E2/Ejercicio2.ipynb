{
 "cells": [
  {
   "cell_type": "code",
   "execution_count": 155,
   "metadata": {},
   "outputs": [
    {
     "name": "stdout",
     "output_type": "stream",
     "text": [
      "Defaulting to user installation because normal site-packages is not writeable\n",
      "Requirement already satisfied: seaborn in c:\\users\\rafael\\appdata\\local\\packages\\pythonsoftwarefoundation.python.3.12_qbz5n2kfra8p0\\localcache\\local-packages\\python312\\site-packages (0.13.2)\n",
      "Requirement already satisfied: numpy!=1.24.0,>=1.20 in c:\\users\\rafael\\appdata\\local\\packages\\pythonsoftwarefoundation.python.3.12_qbz5n2kfra8p0\\localcache\\local-packages\\python312\\site-packages (from seaborn) (2.2.0)\n",
      "Requirement already satisfied: pandas>=1.2 in c:\\users\\rafael\\appdata\\local\\packages\\pythonsoftwarefoundation.python.3.12_qbz5n2kfra8p0\\localcache\\local-packages\\python312\\site-packages (from seaborn) (2.2.3)\n",
      "Requirement already satisfied: matplotlib!=3.6.1,>=3.4 in c:\\users\\rafael\\appdata\\local\\packages\\pythonsoftwarefoundation.python.3.12_qbz5n2kfra8p0\\localcache\\local-packages\\python312\\site-packages (from seaborn) (3.10.0)\n",
      "Requirement already satisfied: contourpy>=1.0.1 in c:\\users\\rafael\\appdata\\local\\packages\\pythonsoftwarefoundation.python.3.12_qbz5n2kfra8p0\\localcache\\local-packages\\python312\\site-packages (from matplotlib!=3.6.1,>=3.4->seaborn) (1.3.1)\n",
      "Requirement already satisfied: cycler>=0.10 in c:\\users\\rafael\\appdata\\local\\packages\\pythonsoftwarefoundation.python.3.12_qbz5n2kfra8p0\\localcache\\local-packages\\python312\\site-packages (from matplotlib!=3.6.1,>=3.4->seaborn) (0.12.1)\n",
      "Requirement already satisfied: fonttools>=4.22.0 in c:\\users\\rafael\\appdata\\local\\packages\\pythonsoftwarefoundation.python.3.12_qbz5n2kfra8p0\\localcache\\local-packages\\python312\\site-packages (from matplotlib!=3.6.1,>=3.4->seaborn) (4.55.3)\n",
      "Requirement already satisfied: kiwisolver>=1.3.1 in c:\\users\\rafael\\appdata\\local\\packages\\pythonsoftwarefoundation.python.3.12_qbz5n2kfra8p0\\localcache\\local-packages\\python312\\site-packages (from matplotlib!=3.6.1,>=3.4->seaborn) (1.4.8)\n",
      "Requirement already satisfied: packaging>=20.0 in c:\\users\\rafael\\appdata\\local\\packages\\pythonsoftwarefoundation.python.3.12_qbz5n2kfra8p0\\localcache\\local-packages\\python312\\site-packages (from matplotlib!=3.6.1,>=3.4->seaborn) (24.2)\n",
      "Requirement already satisfied: pillow>=8 in c:\\users\\rafael\\appdata\\local\\packages\\pythonsoftwarefoundation.python.3.12_qbz5n2kfra8p0\\localcache\\local-packages\\python312\\site-packages (from matplotlib!=3.6.1,>=3.4->seaborn) (11.1.0)\n",
      "Requirement already satisfied: pyparsing>=2.3.1 in c:\\users\\rafael\\appdata\\local\\packages\\pythonsoftwarefoundation.python.3.12_qbz5n2kfra8p0\\localcache\\local-packages\\python312\\site-packages (from matplotlib!=3.6.1,>=3.4->seaborn) (3.2.1)\n",
      "Requirement already satisfied: python-dateutil>=2.7 in c:\\users\\rafael\\appdata\\local\\packages\\pythonsoftwarefoundation.python.3.12_qbz5n2kfra8p0\\localcache\\local-packages\\python312\\site-packages (from matplotlib!=3.6.1,>=3.4->seaborn) (2.9.0.post0)\n",
      "Requirement already satisfied: pytz>=2020.1 in c:\\users\\rafael\\appdata\\local\\packages\\pythonsoftwarefoundation.python.3.12_qbz5n2kfra8p0\\localcache\\local-packages\\python312\\site-packages (from pandas>=1.2->seaborn) (2024.2)\n",
      "Requirement already satisfied: tzdata>=2022.7 in c:\\users\\rafael\\appdata\\local\\packages\\pythonsoftwarefoundation.python.3.12_qbz5n2kfra8p0\\localcache\\local-packages\\python312\\site-packages (from pandas>=1.2->seaborn) (2024.2)\n",
      "Requirement already satisfied: six>=1.5 in c:\\users\\rafael\\appdata\\local\\packages\\pythonsoftwarefoundation.python.3.12_qbz5n2kfra8p0\\localcache\\local-packages\\python312\\site-packages (from python-dateutil>=2.7->matplotlib!=3.6.1,>=3.4->seaborn) (1.17.0)\n"
     ]
    }
   ],
   "source": [
    "!pip install seaborn"
   ]
  },
  {
   "cell_type": "code",
   "execution_count": 181,
   "metadata": {},
   "outputs": [],
   "source": [
    "import pandas as pd\n",
    "import matplotlib.pyplot as plt\n",
    "import seaborn as sns\n",
    "import numpy as np"
   ]
  },
  {
   "cell_type": "code",
   "execution_count": 157,
   "metadata": {},
   "outputs": [
    {
     "data": {
      "text/plain": [
       "'c:\\\\Users\\\\Rafael\\\\Desktop\\\\Bootcamp Data Science - BIT\\\\Ejercicios_Bootcamp_DS\\\\E2'"
      ]
     },
     "execution_count": 157,
     "metadata": {},
     "output_type": "execute_result"
    }
   ],
   "source": [
    "%pwd"
   ]
  },
  {
   "cell_type": "code",
   "execution_count": 158,
   "metadata": {},
   "outputs": [
    {
     "data": {
      "text/html": [
       "<div>\n",
       "<style scoped>\n",
       "    .dataframe tbody tr th:only-of-type {\n",
       "        vertical-align: middle;\n",
       "    }\n",
       "\n",
       "    .dataframe tbody tr th {\n",
       "        vertical-align: top;\n",
       "    }\n",
       "\n",
       "    .dataframe thead th {\n",
       "        text-align: right;\n",
       "    }\n",
       "</style>\n",
       "<table border=\"1\" class=\"dataframe\">\n",
       "  <thead>\n",
       "    <tr style=\"text-align: right;\">\n",
       "      <th></th>\n",
       "      <th>Código Formulario</th>\n",
       "      <th>Codigo Prestamo</th>\n",
       "      <th>Fecha de creación</th>\n",
       "      <th>Alcaldia/Municipio</th>\n",
       "      <th>Colonia</th>\n",
       "      <th>Ciudad MX</th>\n",
       "      <th>Calle</th>\n",
       "      <th>Codigo Postal</th>\n",
       "      <th>Ingreso Neto</th>\n",
       "      <th>Trully Listed Weeks</th>\n",
       "      <th>ScoreFisValor</th>\n",
       "      <th>Con trabajo actual</th>\n",
       "      <th>Total jobs</th>\n",
       "      <th>Year Since Last Job</th>\n",
       "      <th>Fecha de creación del préstamo</th>\n",
       "      <th>Fecha de nacimiento</th>\n",
       "      <th>Edad cliente</th>\n",
       "      <th>Mora máxima</th>\n",
       "      <th>Rango Mora</th>\n",
       "      <th>Estatus préstamo</th>\n",
       "    </tr>\n",
       "  </thead>\n",
       "  <tbody>\n",
       "    <tr>\n",
       "      <th>0</th>\n",
       "      <td>FORM-392881</td>\n",
       "      <td>P-034842</td>\n",
       "      <td>7/12/2024</td>\n",
       "      <td>TECÁMAC</td>\n",
       "      <td>HUEYOTENCO</td>\n",
       "      <td>MÉXICO</td>\n",
       "      <td>Michoacan</td>\n",
       "      <td>55749.0</td>\n",
       "      <td>MXN50.328,01</td>\n",
       "      <td>NaN</td>\n",
       "      <td>539.0</td>\n",
       "      <td>NaN</td>\n",
       "      <td>NaN</td>\n",
       "      <td>NaN</td>\n",
       "      <td>7/12/2024</td>\n",
       "      <td>25/10/1992</td>\n",
       "      <td>32</td>\n",
       "      <td>-30</td>\n",
       "      <td>Sin mora</td>\n",
       "      <td>Pendiente</td>\n",
       "    </tr>\n",
       "    <tr>\n",
       "      <th>1</th>\n",
       "      <td>FORM-392857</td>\n",
       "      <td>P-034840</td>\n",
       "      <td>7/12/2024</td>\n",
       "      <td>CUAUHTÉMOC</td>\n",
       "      <td>EX-HIPÓDROMO DE PERALVILLO</td>\n",
       "      <td>CIUDAD DE MÉXICO</td>\n",
       "      <td>Enrique Granados 151A</td>\n",
       "      <td>6250.0</td>\n",
       "      <td>MXN22.461,92</td>\n",
       "      <td>NaN</td>\n",
       "      <td>NaN</td>\n",
       "      <td>NaN</td>\n",
       "      <td>NaN</td>\n",
       "      <td>NaN</td>\n",
       "      <td>7/12/2024</td>\n",
       "      <td>5/07/1989</td>\n",
       "      <td>35</td>\n",
       "      <td>-30</td>\n",
       "      <td>Sin mora</td>\n",
       "      <td>Pendiente</td>\n",
       "    </tr>\n",
       "    <tr>\n",
       "      <th>2</th>\n",
       "      <td>FORM-392873</td>\n",
       "      <td>P-034841</td>\n",
       "      <td>7/12/2024</td>\n",
       "      <td>ETCHOJOA</td>\n",
       "      <td>EL CRUCERO</td>\n",
       "      <td>SONORA</td>\n",
       "      <td>Miguel hidalgo 233</td>\n",
       "      <td>85280.0</td>\n",
       "      <td>MXN9.342,84</td>\n",
       "      <td>NaN</td>\n",
       "      <td>NaN</td>\n",
       "      <td>NaN</td>\n",
       "      <td>NaN</td>\n",
       "      <td>NaN</td>\n",
       "      <td>7/12/2024</td>\n",
       "      <td>17/04/1995</td>\n",
       "      <td>29</td>\n",
       "      <td>-30</td>\n",
       "      <td>Sin mora</td>\n",
       "      <td>Pendiente</td>\n",
       "    </tr>\n",
       "    <tr>\n",
       "      <th>3</th>\n",
       "      <td>FORM-392928</td>\n",
       "      <td>P-034845</td>\n",
       "      <td>7/12/2024</td>\n",
       "      <td>JIUTEPEC</td>\n",
       "      <td>SAN FRANCISCO TEXCALPA</td>\n",
       "      <td>MORELOS</td>\n",
       "      <td>Naranjo mzna 21 lote 28</td>\n",
       "      <td>62573.0</td>\n",
       "      <td>MXN22.900,28</td>\n",
       "      <td>NaN</td>\n",
       "      <td>595.0</td>\n",
       "      <td>NaN</td>\n",
       "      <td>NaN</td>\n",
       "      <td>NaN</td>\n",
       "      <td>7/12/2024</td>\n",
       "      <td>24/02/1977</td>\n",
       "      <td>47</td>\n",
       "      <td>-30</td>\n",
       "      <td>Sin mora</td>\n",
       "      <td>Pendiente</td>\n",
       "    </tr>\n",
       "    <tr>\n",
       "      <th>4</th>\n",
       "      <td>FORM-392917</td>\n",
       "      <td>P-034843</td>\n",
       "      <td>7/12/2024</td>\n",
       "      <td>NAUCALPAN DE JUÁREZ</td>\n",
       "      <td>SAN BARTOLO NAUCALPAN (NAUCALPAN CENTRO)</td>\n",
       "      <td>MÉXICO</td>\n",
       "      <td>Avenida Gustavo Baz #31</td>\n",
       "      <td>53000.0</td>\n",
       "      <td>MXN7.038,72</td>\n",
       "      <td>NaN</td>\n",
       "      <td>NaN</td>\n",
       "      <td>NaN</td>\n",
       "      <td>NaN</td>\n",
       "      <td>NaN</td>\n",
       "      <td>7/12/2024</td>\n",
       "      <td>15/11/1983</td>\n",
       "      <td>41</td>\n",
       "      <td>-30</td>\n",
       "      <td>Sin mora</td>\n",
       "      <td>Pendiente</td>\n",
       "    </tr>\n",
       "    <tr>\n",
       "      <th>...</th>\n",
       "      <td>...</td>\n",
       "      <td>...</td>\n",
       "      <td>...</td>\n",
       "      <td>...</td>\n",
       "      <td>...</td>\n",
       "      <td>...</td>\n",
       "      <td>...</td>\n",
       "      <td>...</td>\n",
       "      <td>...</td>\n",
       "      <td>...</td>\n",
       "      <td>...</td>\n",
       "      <td>...</td>\n",
       "      <td>...</td>\n",
       "      <td>...</td>\n",
       "      <td>...</td>\n",
       "      <td>...</td>\n",
       "      <td>...</td>\n",
       "      <td>...</td>\n",
       "      <td>...</td>\n",
       "      <td>...</td>\n",
       "    </tr>\n",
       "    <tr>\n",
       "      <th>31162</th>\n",
       "      <td>FORM-001587</td>\n",
       "      <td>P-000058</td>\n",
       "      <td>7/09/2023</td>\n",
       "      <td>QUERÉTARO</td>\n",
       "      <td>COMERCIANTES</td>\n",
       "      <td>QUERÉTARO</td>\n",
       "      <td>Calle 1</td>\n",
       "      <td>76087.0</td>\n",
       "      <td>MXN5.748,00</td>\n",
       "      <td>NaN</td>\n",
       "      <td>528.0</td>\n",
       "      <td>W</td>\n",
       "      <td>NaN</td>\n",
       "      <td>NaN</td>\n",
       "      <td>7/09/2023</td>\n",
       "      <td>25/09/1997</td>\n",
       "      <td>27</td>\n",
       "      <td>427</td>\n",
       "      <td>Mora +360 días</td>\n",
       "      <td>Pendiente</td>\n",
       "    </tr>\n",
       "    <tr>\n",
       "      <th>31163</th>\n",
       "      <td>FORM-001593</td>\n",
       "      <td>P-000059</td>\n",
       "      <td>7/09/2023</td>\n",
       "      <td>VENUSTIANO CARRANZA</td>\n",
       "      <td>ARENAL 1A SECCIÓN</td>\n",
       "      <td>CIUDAD DE MÉXICO</td>\n",
       "      <td>Axayacatl</td>\n",
       "      <td>15600.0</td>\n",
       "      <td>MXN15.230,00</td>\n",
       "      <td>NaN</td>\n",
       "      <td>498.0</td>\n",
       "      <td>W</td>\n",
       "      <td>NaN</td>\n",
       "      <td>NaN</td>\n",
       "      <td>7/09/2023</td>\n",
       "      <td>8/12/1994</td>\n",
       "      <td>30</td>\n",
       "      <td>427</td>\n",
       "      <td>Mora +360 días</td>\n",
       "      <td>Pendiente</td>\n",
       "    </tr>\n",
       "    <tr>\n",
       "      <th>31164</th>\n",
       "      <td>FORM-000259</td>\n",
       "      <td>P-020555</td>\n",
       "      <td>7/09/2023</td>\n",
       "      <td>TLALNEPANTLA DE BAZ</td>\n",
       "      <td>LOMAS DE SAN ANDRÉS ATENCO</td>\n",
       "      <td>MÉXICO</td>\n",
       "      <td>CUERNAVACA</td>\n",
       "      <td>54040.0</td>\n",
       "      <td>MXN15.549,56</td>\n",
       "      <td>541.0</td>\n",
       "      <td>524.0</td>\n",
       "      <td>W</td>\n",
       "      <td>8.0</td>\n",
       "      <td>-2.0</td>\n",
       "      <td>30/05/2024</td>\n",
       "      <td>13/10/1993</td>\n",
       "      <td>31</td>\n",
       "      <td>168</td>\n",
       "      <td>Mora 120 días</td>\n",
       "      <td>Pendiente</td>\n",
       "    </tr>\n",
       "    <tr>\n",
       "      <th>31165</th>\n",
       "      <td>FORM-001504</td>\n",
       "      <td>P-021844</td>\n",
       "      <td>7/09/2023</td>\n",
       "      <td>SANTIAGO MIAHUATLÁN</td>\n",
       "      <td>SANTIAGO MIAHUATLÁN</td>\n",
       "      <td>PUEBLA</td>\n",
       "      <td>Sonora</td>\n",
       "      <td>75820.0</td>\n",
       "      <td>MXN6.563,18</td>\n",
       "      <td>65.0</td>\n",
       "      <td>595.0</td>\n",
       "      <td>W</td>\n",
       "      <td>2.0</td>\n",
       "      <td>0.0</td>\n",
       "      <td>15/06/2024</td>\n",
       "      <td>7/11/1994</td>\n",
       "      <td>30</td>\n",
       "      <td>138</td>\n",
       "      <td>Mora 120 días</td>\n",
       "      <td>Pendiente</td>\n",
       "    </tr>\n",
       "    <tr>\n",
       "      <th>31166</th>\n",
       "      <td>FORM-001595</td>\n",
       "      <td>P-029269</td>\n",
       "      <td>7/09/2023</td>\n",
       "      <td>MEXICALI</td>\n",
       "      <td>INSURGENTES OESTE</td>\n",
       "      <td>BAJA CALIFORNIA</td>\n",
       "      <td>Jose G valenzuela 241</td>\n",
       "      <td>21280.0</td>\n",
       "      <td>MXN11.027,12</td>\n",
       "      <td>NaN</td>\n",
       "      <td>NaN</td>\n",
       "      <td>W</td>\n",
       "      <td>NaN</td>\n",
       "      <td>NaN</td>\n",
       "      <td>9/09/2024</td>\n",
       "      <td>9/11/1990</td>\n",
       "      <td>34</td>\n",
       "      <td>46</td>\n",
       "      <td>Mora 45 días</td>\n",
       "      <td>Pendiente</td>\n",
       "    </tr>\n",
       "  </tbody>\n",
       "</table>\n",
       "<p>31167 rows × 20 columns</p>\n",
       "</div>"
      ],
      "text/plain": [
       "      Código Formulario Codigo Prestamo Fecha de creación  \\\n",
       "0           FORM-392881        P-034842         7/12/2024   \n",
       "1           FORM-392857        P-034840         7/12/2024   \n",
       "2           FORM-392873        P-034841         7/12/2024   \n",
       "3           FORM-392928        P-034845         7/12/2024   \n",
       "4           FORM-392917        P-034843         7/12/2024   \n",
       "...                 ...             ...               ...   \n",
       "31162       FORM-001587        P-000058         7/09/2023   \n",
       "31163       FORM-001593        P-000059         7/09/2023   \n",
       "31164       FORM-000259        P-020555         7/09/2023   \n",
       "31165       FORM-001504        P-021844         7/09/2023   \n",
       "31166       FORM-001595        P-029269         7/09/2023   \n",
       "\n",
       "        Alcaldia/Municipio                                   Colonia  \\\n",
       "0                  TECÁMAC                                HUEYOTENCO   \n",
       "1               CUAUHTÉMOC                EX-HIPÓDROMO DE PERALVILLO   \n",
       "2                 ETCHOJOA                                EL CRUCERO   \n",
       "3                 JIUTEPEC                    SAN FRANCISCO TEXCALPA   \n",
       "4      NAUCALPAN DE JUÁREZ  SAN BARTOLO NAUCALPAN (NAUCALPAN CENTRO)   \n",
       "...                    ...                                       ...   \n",
       "31162            QUERÉTARO                              COMERCIANTES   \n",
       "31163  VENUSTIANO CARRANZA                         ARENAL 1A SECCIÓN   \n",
       "31164  TLALNEPANTLA DE BAZ                LOMAS DE SAN ANDRÉS ATENCO   \n",
       "31165  SANTIAGO MIAHUATLÁN                       SANTIAGO MIAHUATLÁN   \n",
       "31166             MEXICALI                         INSURGENTES OESTE   \n",
       "\n",
       "              Ciudad MX                    Calle  Codigo Postal  Ingreso Neto  \\\n",
       "0                MÉXICO                Michoacan        55749.0  MXN50.328,01   \n",
       "1      CIUDAD DE MÉXICO    Enrique Granados 151A         6250.0  MXN22.461,92   \n",
       "2                SONORA       Miguel hidalgo 233        85280.0   MXN9.342,84   \n",
       "3               MORELOS  Naranjo mzna 21 lote 28        62573.0  MXN22.900,28   \n",
       "4                MÉXICO  Avenida Gustavo Baz #31        53000.0   MXN7.038,72   \n",
       "...                 ...                      ...            ...           ...   \n",
       "31162         QUERÉTARO                  Calle 1        76087.0   MXN5.748,00   \n",
       "31163  CIUDAD DE MÉXICO                Axayacatl        15600.0  MXN15.230,00   \n",
       "31164            MÉXICO               CUERNAVACA        54040.0  MXN15.549,56   \n",
       "31165            PUEBLA                   Sonora        75820.0   MXN6.563,18   \n",
       "31166   BAJA CALIFORNIA    Jose G valenzuela 241        21280.0  MXN11.027,12   \n",
       "\n",
       "       Trully Listed Weeks  ScoreFisValor Con trabajo actual  Total jobs  \\\n",
       "0                      NaN          539.0                NaN         NaN   \n",
       "1                      NaN            NaN                NaN         NaN   \n",
       "2                      NaN            NaN                NaN         NaN   \n",
       "3                      NaN          595.0                NaN         NaN   \n",
       "4                      NaN            NaN                NaN         NaN   \n",
       "...                    ...            ...                ...         ...   \n",
       "31162                  NaN          528.0                  W         NaN   \n",
       "31163                  NaN          498.0                  W         NaN   \n",
       "31164                541.0          524.0                  W         8.0   \n",
       "31165                 65.0          595.0                  W         2.0   \n",
       "31166                  NaN            NaN                  W         NaN   \n",
       "\n",
       "       Year Since Last Job Fecha de creación del préstamo Fecha de nacimiento  \\\n",
       "0                      NaN                      7/12/2024          25/10/1992   \n",
       "1                      NaN                      7/12/2024           5/07/1989   \n",
       "2                      NaN                      7/12/2024          17/04/1995   \n",
       "3                      NaN                      7/12/2024          24/02/1977   \n",
       "4                      NaN                      7/12/2024          15/11/1983   \n",
       "...                    ...                            ...                 ...   \n",
       "31162                  NaN                      7/09/2023          25/09/1997   \n",
       "31163                  NaN                      7/09/2023           8/12/1994   \n",
       "31164                 -2.0                     30/05/2024          13/10/1993   \n",
       "31165                  0.0                     15/06/2024           7/11/1994   \n",
       "31166                  NaN                      9/09/2024           9/11/1990   \n",
       "\n",
       "      Edad cliente  Mora máxima      Rango Mora Estatus préstamo  \n",
       "0               32          -30        Sin mora        Pendiente  \n",
       "1               35          -30        Sin mora        Pendiente  \n",
       "2               29          -30        Sin mora        Pendiente  \n",
       "3               47          -30        Sin mora        Pendiente  \n",
       "4               41          -30        Sin mora        Pendiente  \n",
       "...            ...          ...             ...              ...  \n",
       "31162           27          427  Mora +360 días        Pendiente  \n",
       "31163           30          427  Mora +360 días        Pendiente  \n",
       "31164           31          168   Mora 120 días        Pendiente  \n",
       "31165           30          138   Mora 120 días        Pendiente  \n",
       "31166           34           46    Mora 45 días        Pendiente  \n",
       "\n",
       "[31167 rows x 20 columns]"
      ]
     },
     "execution_count": 158,
     "metadata": {},
     "output_type": "execute_result"
    }
   ],
   "source": [
    "ruta=\"c:\\\\Users\\\\Rafael\\\\Desktop\\\\Bootcamp Data Science - BIT\\\\Ejercicios_Bootcamp_DS\\\\E1\\\\\"\n",
    "tabla=pd.read_csv(ruta+'Dataset Bootcamp_Final.csv',sep=';',encoding='utf-8')\n",
    "tabla"
   ]
  },
  {
   "cell_type": "code",
   "execution_count": 159,
   "metadata": {},
   "outputs": [
    {
     "data": {
      "text/plain": [
       "array(['7/12/2024', '6/12/2024', '5/12/2024', '4/12/2024', '3/12/2024',\n",
       "       '2/12/2024', '1/12/2024', '30/11/2024', '29/11/2024', '28/11/2024',\n",
       "       '27/11/2024', '26/11/2024', '25/11/2024', '24/11/2024',\n",
       "       '23/11/2024', '22/11/2024', '21/11/2024', '20/11/2024',\n",
       "       '19/11/2024', '18/11/2024', '17/11/2024', '16/11/2024',\n",
       "       '15/11/2024', '14/11/2024', '13/11/2024', '12/11/2024',\n",
       "       '11/11/2024', '10/11/2024', '9/11/2024', '8/11/2024', '7/11/2024',\n",
       "       '6/11/2024', '5/11/2024', '4/11/2024', '3/11/2024', '2/11/2024',\n",
       "       '1/11/2024', '31/10/2024', '30/10/2024', '29/10/2024',\n",
       "       '28/10/2024', '27/10/2024', '26/10/2024', '25/10/2024',\n",
       "       '24/10/2024', '23/10/2024', '22/10/2024', '21/10/2024',\n",
       "       '20/10/2024', '19/10/2024', '18/10/2024', '17/10/2024',\n",
       "       '16/10/2024', '15/10/2024', '14/10/2024', '13/10/2024',\n",
       "       '12/10/2024', '11/10/2024', '10/10/2024', '9/10/2024', '8/10/2024',\n",
       "       '7/10/2024', '6/10/2024', '5/10/2024', '4/10/2024', '3/10/2024',\n",
       "       '2/10/2024', '1/10/2024', '30/09/2024', '29/09/2024', '28/09/2024',\n",
       "       '27/09/2024', '26/09/2024', '25/09/2024', '24/09/2024',\n",
       "       '23/09/2024', '22/09/2024', '21/09/2024', '20/09/2024',\n",
       "       '19/09/2024', '18/09/2024', '17/09/2024', '16/09/2024',\n",
       "       '15/09/2024', '14/09/2024', '13/09/2024', '12/09/2024',\n",
       "       '11/09/2024', '10/09/2024', '9/09/2024', '8/09/2024', '7/09/2024',\n",
       "       '6/09/2024', '5/09/2024', '4/09/2024', '3/09/2024', '2/09/2024',\n",
       "       '1/09/2024', '31/08/2024', '30/08/2024', '29/08/2024',\n",
       "       '28/08/2024', '27/08/2024', '26/08/2024', '25/08/2024',\n",
       "       '24/08/2024', '23/08/2024', '22/08/2024', '21/08/2024',\n",
       "       '20/08/2024', '19/08/2024', '18/08/2024', '17/08/2024',\n",
       "       '16/08/2024', '15/08/2024', '14/08/2024', '13/08/2024',\n",
       "       '12/08/2024', '11/08/2024', '10/08/2024', '9/08/2024', '8/08/2024',\n",
       "       '7/08/2024', '6/08/2024', '5/08/2024', '4/08/2024', '3/08/2024',\n",
       "       '2/08/2024', '1/08/2024', '31/07/2024', '30/07/2024', '29/07/2024',\n",
       "       '28/07/2024', '27/07/2024', '26/07/2024', '25/07/2024',\n",
       "       '24/07/2024', '23/07/2024', '22/07/2024', '21/07/2024',\n",
       "       '20/07/2024', '19/07/2024', '18/07/2024', '17/07/2024',\n",
       "       '16/07/2024', '15/07/2024', '14/07/2024', '13/07/2024',\n",
       "       '12/07/2024', '11/07/2024', '10/07/2024', '9/07/2024', '8/07/2024',\n",
       "       '7/07/2024', '6/07/2024', '5/07/2024', '4/07/2024', '3/07/2024',\n",
       "       '2/07/2024', '1/07/2024', '30/06/2024', '29/06/2024', '28/06/2024',\n",
       "       '27/06/2024', '26/06/2024', '25/06/2024', '24/06/2024',\n",
       "       '23/06/2024', '22/06/2024', '21/06/2024', '20/06/2024',\n",
       "       '19/06/2024', '18/06/2024', '17/06/2024', '16/06/2024',\n",
       "       '15/06/2024', '14/06/2024', '13/06/2024', '12/06/2024',\n",
       "       '11/06/2024', '10/06/2024', '9/06/2024', '8/06/2024', '7/06/2024',\n",
       "       '6/06/2024', '5/06/2024', '4/06/2024', '3/06/2024', '2/06/2024',\n",
       "       '1/06/2024', '31/05/2024', '30/05/2024', '29/05/2024',\n",
       "       '28/05/2024', '27/05/2024', '26/05/2024', '25/05/2024',\n",
       "       '24/05/2024', '23/05/2024', '22/05/2024', '21/05/2024',\n",
       "       '20/05/2024', '19/05/2024', '18/05/2024', '17/05/2024',\n",
       "       '16/05/2024', '15/05/2024', '14/05/2024', '13/05/2024',\n",
       "       '12/05/2024', '11/05/2024', '10/05/2024', '9/05/2024', '8/05/2024',\n",
       "       '7/05/2024', '6/05/2024', '5/05/2024', '4/05/2024', '3/05/2024',\n",
       "       '2/05/2024', '1/05/2024', '30/04/2024', '29/04/2024', '28/04/2024',\n",
       "       '27/04/2024', '26/04/2024', '25/04/2024', '24/04/2024',\n",
       "       '23/04/2024', '22/04/2024', '21/04/2024', '20/04/2024',\n",
       "       '19/04/2024', '18/04/2024', '17/04/2024', '16/04/2024',\n",
       "       '15/04/2024', '14/04/2024', '13/04/2024', '12/04/2024',\n",
       "       '11/04/2024', '10/04/2024', '9/04/2024', '8/04/2024', '7/04/2024',\n",
       "       '6/04/2024', '5/04/2024', '4/04/2024', '3/04/2024', '2/04/2024',\n",
       "       '1/04/2024', '31/03/2024', '30/03/2024', '29/03/2024',\n",
       "       '28/03/2024', '27/03/2024', '26/03/2024', '25/03/2024',\n",
       "       '24/03/2024', '23/03/2024', '22/03/2024', '21/03/2024',\n",
       "       '20/03/2024', '19/03/2024', '18/03/2024', '17/03/2024',\n",
       "       '16/03/2024', '15/03/2024', '14/03/2024', '13/03/2024',\n",
       "       '12/03/2024', '11/03/2024', '10/03/2024', '9/03/2024', '8/03/2024',\n",
       "       '7/03/2024', '6/03/2024', '5/03/2024', '4/03/2024', '3/03/2024',\n",
       "       '2/03/2024', '1/03/2024', '29/02/2024', '28/02/2024', '27/02/2024',\n",
       "       '26/02/2024', '25/02/2024', '24/02/2024', '23/02/2024',\n",
       "       '22/02/2024', '21/02/2024', '20/02/2024', '19/02/2024',\n",
       "       '18/02/2024', '17/02/2024', '16/02/2024', '15/02/2024',\n",
       "       '14/02/2024', '13/02/2024', '12/02/2024', '11/02/2024',\n",
       "       '10/02/2024', '9/02/2024', '8/02/2024', '7/02/2024', '6/02/2024',\n",
       "       '5/02/2024', '4/02/2024', '3/02/2024', '2/02/2024', '1/02/2024',\n",
       "       '31/01/2024', '30/01/2024', '29/01/2024', '28/01/2024',\n",
       "       '27/01/2024', '26/01/2024', '25/01/2024', '24/01/2024',\n",
       "       '23/01/2024', '22/01/2024', '21/01/2024', '20/01/2024',\n",
       "       '19/01/2024', '18/01/2024', '17/01/2024', '16/01/2024',\n",
       "       '15/01/2024', '14/01/2024', '13/01/2024', '12/01/2024',\n",
       "       '11/01/2024', '10/01/2024', '9/01/2024', '8/01/2024', '7/01/2024',\n",
       "       '6/01/2024', '5/01/2024', '4/01/2024', '3/01/2024', '2/01/2024',\n",
       "       '1/01/2024', '31/12/2023', '30/12/2023', '29/12/2023',\n",
       "       '28/12/2023', '27/12/2023', '26/12/2023', '25/12/2023',\n",
       "       '24/12/2023', '23/12/2023', '22/12/2023', '21/12/2023',\n",
       "       '20/12/2023', '19/12/2023', '18/12/2023', '17/12/2023',\n",
       "       '16/12/2023', '15/12/2023', '14/12/2023', '13/12/2023',\n",
       "       '12/12/2023', '11/12/2023', '10/12/2023', '9/12/2023', '8/12/2023',\n",
       "       '7/12/2023', '6/12/2023', '5/12/2023', '4/12/2023', '3/12/2023',\n",
       "       '2/12/2023', '1/12/2023', '30/11/2023', '29/11/2023', '28/11/2023',\n",
       "       '27/11/2023', '26/11/2023', '25/11/2023', '24/11/2023',\n",
       "       '23/11/2023', '22/11/2023', '21/11/2023', '20/11/2023',\n",
       "       '19/11/2023', '18/11/2023', '17/11/2023', '16/11/2023',\n",
       "       '15/11/2023', '14/11/2023', '13/11/2023', '12/11/2023',\n",
       "       '11/11/2023', '10/11/2023', '9/11/2023', '8/11/2023', '7/11/2023',\n",
       "       '6/11/2023', '5/11/2023', '4/11/2023', '3/11/2023', '2/11/2023',\n",
       "       '1/11/2023', '31/10/2023', '30/10/2023', '29/10/2023',\n",
       "       '28/10/2023', '27/10/2023', '26/10/2023', '25/10/2023',\n",
       "       '24/10/2023', '23/10/2023', '22/10/2023', '21/10/2023',\n",
       "       '20/10/2023', '19/10/2023', '18/10/2023', '17/10/2023',\n",
       "       '16/10/2023', '15/10/2023', '14/10/2023', '13/10/2023',\n",
       "       '12/10/2023', '11/10/2023', '10/10/2023', '9/10/2023', '8/10/2023',\n",
       "       '7/10/2023', '6/10/2023', '5/10/2023', '4/10/2023', '3/10/2023',\n",
       "       '2/10/2023', '1/10/2023', '30/09/2023', '29/09/2023', '28/09/2023',\n",
       "       '27/09/2023', '26/09/2023', '25/09/2023', '24/09/2023',\n",
       "       '23/09/2023', '22/09/2023', '21/09/2023', '20/09/2023',\n",
       "       '19/09/2023', '18/09/2023', '17/09/2023', '16/09/2023',\n",
       "       '15/09/2023', '14/09/2023', '13/09/2023', '12/09/2023',\n",
       "       '11/09/2023', '10/09/2023', '9/09/2023', '8/09/2023', '7/09/2023'],\n",
       "      dtype=object)"
      ]
     },
     "execution_count": 159,
     "metadata": {},
     "output_type": "execute_result"
    }
   ],
   "source": [
    "tabla['Fecha de creación'].unique()"
   ]
  },
  {
   "cell_type": "code",
   "execution_count": 160,
   "metadata": {},
   "outputs": [],
   "source": [
    "tabla['Fecha de creación'] = pd.to_datetime(tabla['Fecha de creación'], format='%d/%m/%Y')\n",
    "#tabla['Fecha de creación']"
   ]
  },
  {
   "cell_type": "code",
   "execution_count": 161,
   "metadata": {},
   "outputs": [],
   "source": [
    "tabla['Ingreso Neto Numérico'] = (\n",
    "    tabla['Ingreso Neto']\n",
    "    .str.replace('MXN', '', regex=False)  # Elimina 'MXN'\n",
    "    .str.replace('.', '', regex=False)   # Elimina los puntos\n",
    "    .str.replace(',', '.', regex=False)  # Cambia comas por puntos\n",
    "    .astype(float)                       # Convierte a float\n",
    ")"
   ]
  },
  {
   "cell_type": "code",
   "execution_count": 193,
   "metadata": {},
   "outputs": [],
   "source": [
    "tabla['Pagado'] = np.where(tabla['Estatus préstamo'] == 'Pagado', 1, 0)"
   ]
  },
  {
   "cell_type": "code",
   "execution_count": 194,
   "metadata": {},
   "outputs": [
    {
     "data": {
      "text/html": [
       "<div>\n",
       "<style scoped>\n",
       "    .dataframe tbody tr th:only-of-type {\n",
       "        vertical-align: middle;\n",
       "    }\n",
       "\n",
       "    .dataframe tbody tr th {\n",
       "        vertical-align: top;\n",
       "    }\n",
       "\n",
       "    .dataframe thead th {\n",
       "        text-align: right;\n",
       "    }\n",
       "</style>\n",
       "<table border=\"1\" class=\"dataframe\">\n",
       "  <thead>\n",
       "    <tr style=\"text-align: right;\">\n",
       "      <th></th>\n",
       "      <th>Código Formulario</th>\n",
       "      <th>Codigo Prestamo</th>\n",
       "      <th>Fecha de creación</th>\n",
       "      <th>Alcaldia/Municipio</th>\n",
       "      <th>Colonia</th>\n",
       "      <th>Ciudad MX</th>\n",
       "      <th>Calle</th>\n",
       "      <th>Codigo Postal</th>\n",
       "      <th>Ingreso Neto</th>\n",
       "      <th>Trully Listed Weeks</th>\n",
       "      <th>...</th>\n",
       "      <th>Year Since Last Job</th>\n",
       "      <th>Fecha de creación del préstamo</th>\n",
       "      <th>Fecha de nacimiento</th>\n",
       "      <th>Edad cliente</th>\n",
       "      <th>Mora máxima</th>\n",
       "      <th>Rango Mora</th>\n",
       "      <th>Estatus préstamo</th>\n",
       "      <th>Ingreso Neto Numérico</th>\n",
       "      <th>Con Mora</th>\n",
       "      <th>Pagado</th>\n",
       "    </tr>\n",
       "  </thead>\n",
       "  <tbody>\n",
       "    <tr>\n",
       "      <th>12113</th>\n",
       "      <td>FORM-247365</td>\n",
       "      <td>P-020629</td>\n",
       "      <td>2024-05-31</td>\n",
       "      <td>MEXICALI</td>\n",
       "      <td>SAN MARCOS</td>\n",
       "      <td>BAJA CALIFORNIA</td>\n",
       "      <td>Del Farallon</td>\n",
       "      <td>21050.0</td>\n",
       "      <td>MXN7.500,00</td>\n",
       "      <td>NaN</td>\n",
       "      <td>...</td>\n",
       "      <td>NaN</td>\n",
       "      <td>31/05/2024</td>\n",
       "      <td>9/02/1973</td>\n",
       "      <td>51</td>\n",
       "      <td>3</td>\n",
       "      <td>Premora</td>\n",
       "      <td>Pendiente</td>\n",
       "      <td>7500.00</td>\n",
       "      <td>1</td>\n",
       "      <td>0</td>\n",
       "    </tr>\n",
       "    <tr>\n",
       "      <th>12114</th>\n",
       "      <td>FORM-247339</td>\n",
       "      <td>P-020626</td>\n",
       "      <td>2024-05-31</td>\n",
       "      <td>AGUASCALIENTES</td>\n",
       "      <td>GUADALUPE</td>\n",
       "      <td>AGUASCALIENTES</td>\n",
       "      <td>Guadalupe 448</td>\n",
       "      <td>20059.0</td>\n",
       "      <td>MXN7.384,26</td>\n",
       "      <td>172.0</td>\n",
       "      <td>...</td>\n",
       "      <td>-8.0</td>\n",
       "      <td>31/05/2024</td>\n",
       "      <td>24/01/1993</td>\n",
       "      <td>31</td>\n",
       "      <td>168</td>\n",
       "      <td>Mora 120 días</td>\n",
       "      <td>Pendiente</td>\n",
       "      <td>7384.26</td>\n",
       "      <td>1</td>\n",
       "      <td>0</td>\n",
       "    </tr>\n",
       "    <tr>\n",
       "      <th>12115</th>\n",
       "      <td>FORM-247363</td>\n",
       "      <td>P-020627</td>\n",
       "      <td>2024-05-31</td>\n",
       "      <td>ECATEPEC DE MORELOS</td>\n",
       "      <td>NUEVO PASEO SAN AGUSTÍN 3A B</td>\n",
       "      <td>MÉXICO</td>\n",
       "      <td>sur 82</td>\n",
       "      <td>55130.0</td>\n",
       "      <td>MXN19.878,04</td>\n",
       "      <td>NaN</td>\n",
       "      <td>...</td>\n",
       "      <td>NaN</td>\n",
       "      <td>31/05/2024</td>\n",
       "      <td>7/11/1983</td>\n",
       "      <td>41</td>\n",
       "      <td>168</td>\n",
       "      <td>Mora 120 días</td>\n",
       "      <td>Pendiente</td>\n",
       "      <td>19878.04</td>\n",
       "      <td>1</td>\n",
       "      <td>0</td>\n",
       "    </tr>\n",
       "    <tr>\n",
       "      <th>12116</th>\n",
       "      <td>FORM-247382</td>\n",
       "      <td>P-020630</td>\n",
       "      <td>2024-05-31</td>\n",
       "      <td>ECATEPEC DE MORELOS</td>\n",
       "      <td>CARLOS HANK GONZÁLEZ</td>\n",
       "      <td>MÉXICO</td>\n",
       "      <td>Monte de los Olivos</td>\n",
       "      <td>55520.0</td>\n",
       "      <td>MXN18.641,74</td>\n",
       "      <td>NaN</td>\n",
       "      <td>...</td>\n",
       "      <td>NaN</td>\n",
       "      <td>31/05/2024</td>\n",
       "      <td>27/06/1989</td>\n",
       "      <td>35</td>\n",
       "      <td>-1</td>\n",
       "      <td>Sin mora</td>\n",
       "      <td>Pendiente</td>\n",
       "      <td>18641.74</td>\n",
       "      <td>1</td>\n",
       "      <td>0</td>\n",
       "    </tr>\n",
       "    <tr>\n",
       "      <th>12117</th>\n",
       "      <td>FORM-247389</td>\n",
       "      <td>P-020631</td>\n",
       "      <td>2024-05-31</td>\n",
       "      <td>GENERAL ESCOBEDO</td>\n",
       "      <td>ALIANZA REAL</td>\n",
       "      <td>NUEVO LEÓN</td>\n",
       "      <td>Privada Campeche 122 alianza Real general Esco...</td>\n",
       "      <td>66084.0</td>\n",
       "      <td>MXN13.463,84</td>\n",
       "      <td>NaN</td>\n",
       "      <td>...</td>\n",
       "      <td>NaN</td>\n",
       "      <td>31/05/2024</td>\n",
       "      <td>22/06/1997</td>\n",
       "      <td>27</td>\n",
       "      <td>-2</td>\n",
       "      <td>Sin mora</td>\n",
       "      <td>Pendiente</td>\n",
       "      <td>13463.84</td>\n",
       "      <td>1</td>\n",
       "      <td>0</td>\n",
       "    </tr>\n",
       "    <tr>\n",
       "      <th>...</th>\n",
       "      <td>...</td>\n",
       "      <td>...</td>\n",
       "      <td>...</td>\n",
       "      <td>...</td>\n",
       "      <td>...</td>\n",
       "      <td>...</td>\n",
       "      <td>...</td>\n",
       "      <td>...</td>\n",
       "      <td>...</td>\n",
       "      <td>...</td>\n",
       "      <td>...</td>\n",
       "      <td>...</td>\n",
       "      <td>...</td>\n",
       "      <td>...</td>\n",
       "      <td>...</td>\n",
       "      <td>...</td>\n",
       "      <td>...</td>\n",
       "      <td>...</td>\n",
       "      <td>...</td>\n",
       "      <td>...</td>\n",
       "      <td>...</td>\n",
       "    </tr>\n",
       "    <tr>\n",
       "      <th>31162</th>\n",
       "      <td>FORM-001587</td>\n",
       "      <td>P-000058</td>\n",
       "      <td>2023-09-07</td>\n",
       "      <td>QUERÉTARO</td>\n",
       "      <td>COMERCIANTES</td>\n",
       "      <td>QUERÉTARO</td>\n",
       "      <td>Calle 1</td>\n",
       "      <td>76087.0</td>\n",
       "      <td>MXN5.748,00</td>\n",
       "      <td>NaN</td>\n",
       "      <td>...</td>\n",
       "      <td>NaN</td>\n",
       "      <td>7/09/2023</td>\n",
       "      <td>25/09/1997</td>\n",
       "      <td>27</td>\n",
       "      <td>427</td>\n",
       "      <td>Mora +360 días</td>\n",
       "      <td>Pendiente</td>\n",
       "      <td>5748.00</td>\n",
       "      <td>1</td>\n",
       "      <td>0</td>\n",
       "    </tr>\n",
       "    <tr>\n",
       "      <th>31163</th>\n",
       "      <td>FORM-001593</td>\n",
       "      <td>P-000059</td>\n",
       "      <td>2023-09-07</td>\n",
       "      <td>VENUSTIANO CARRANZA</td>\n",
       "      <td>ARENAL 1A SECCIÓN</td>\n",
       "      <td>CIUDAD DE MÉXICO</td>\n",
       "      <td>Axayacatl</td>\n",
       "      <td>15600.0</td>\n",
       "      <td>MXN15.230,00</td>\n",
       "      <td>NaN</td>\n",
       "      <td>...</td>\n",
       "      <td>NaN</td>\n",
       "      <td>7/09/2023</td>\n",
       "      <td>8/12/1994</td>\n",
       "      <td>30</td>\n",
       "      <td>427</td>\n",
       "      <td>Mora +360 días</td>\n",
       "      <td>Pendiente</td>\n",
       "      <td>15230.00</td>\n",
       "      <td>1</td>\n",
       "      <td>0</td>\n",
       "    </tr>\n",
       "    <tr>\n",
       "      <th>31164</th>\n",
       "      <td>FORM-000259</td>\n",
       "      <td>P-020555</td>\n",
       "      <td>2023-09-07</td>\n",
       "      <td>TLALNEPANTLA DE BAZ</td>\n",
       "      <td>LOMAS DE SAN ANDRÉS ATENCO</td>\n",
       "      <td>MÉXICO</td>\n",
       "      <td>CUERNAVACA</td>\n",
       "      <td>54040.0</td>\n",
       "      <td>MXN15.549,56</td>\n",
       "      <td>541.0</td>\n",
       "      <td>...</td>\n",
       "      <td>-2.0</td>\n",
       "      <td>30/05/2024</td>\n",
       "      <td>13/10/1993</td>\n",
       "      <td>31</td>\n",
       "      <td>168</td>\n",
       "      <td>Mora 120 días</td>\n",
       "      <td>Pendiente</td>\n",
       "      <td>15549.56</td>\n",
       "      <td>1</td>\n",
       "      <td>0</td>\n",
       "    </tr>\n",
       "    <tr>\n",
       "      <th>31165</th>\n",
       "      <td>FORM-001504</td>\n",
       "      <td>P-021844</td>\n",
       "      <td>2023-09-07</td>\n",
       "      <td>SANTIAGO MIAHUATLÁN</td>\n",
       "      <td>SANTIAGO MIAHUATLÁN</td>\n",
       "      <td>PUEBLA</td>\n",
       "      <td>Sonora</td>\n",
       "      <td>75820.0</td>\n",
       "      <td>MXN6.563,18</td>\n",
       "      <td>65.0</td>\n",
       "      <td>...</td>\n",
       "      <td>0.0</td>\n",
       "      <td>15/06/2024</td>\n",
       "      <td>7/11/1994</td>\n",
       "      <td>30</td>\n",
       "      <td>138</td>\n",
       "      <td>Mora 120 días</td>\n",
       "      <td>Pendiente</td>\n",
       "      <td>6563.18</td>\n",
       "      <td>1</td>\n",
       "      <td>0</td>\n",
       "    </tr>\n",
       "    <tr>\n",
       "      <th>31166</th>\n",
       "      <td>FORM-001595</td>\n",
       "      <td>P-029269</td>\n",
       "      <td>2023-09-07</td>\n",
       "      <td>MEXICALI</td>\n",
       "      <td>INSURGENTES OESTE</td>\n",
       "      <td>BAJA CALIFORNIA</td>\n",
       "      <td>Jose G valenzuela 241</td>\n",
       "      <td>21280.0</td>\n",
       "      <td>MXN11.027,12</td>\n",
       "      <td>NaN</td>\n",
       "      <td>...</td>\n",
       "      <td>NaN</td>\n",
       "      <td>9/09/2024</td>\n",
       "      <td>9/11/1990</td>\n",
       "      <td>34</td>\n",
       "      <td>46</td>\n",
       "      <td>Mora 45 días</td>\n",
       "      <td>Pendiente</td>\n",
       "      <td>11027.12</td>\n",
       "      <td>1</td>\n",
       "      <td>0</td>\n",
       "    </tr>\n",
       "  </tbody>\n",
       "</table>\n",
       "<p>18818 rows × 23 columns</p>\n",
       "</div>"
      ],
      "text/plain": [
       "      Código Formulario Codigo Prestamo Fecha de creación  \\\n",
       "12113       FORM-247365        P-020629        2024-05-31   \n",
       "12114       FORM-247339        P-020626        2024-05-31   \n",
       "12115       FORM-247363        P-020627        2024-05-31   \n",
       "12116       FORM-247382        P-020630        2024-05-31   \n",
       "12117       FORM-247389        P-020631        2024-05-31   \n",
       "...                 ...             ...               ...   \n",
       "31162       FORM-001587        P-000058        2023-09-07   \n",
       "31163       FORM-001593        P-000059        2023-09-07   \n",
       "31164       FORM-000259        P-020555        2023-09-07   \n",
       "31165       FORM-001504        P-021844        2023-09-07   \n",
       "31166       FORM-001595        P-029269        2023-09-07   \n",
       "\n",
       "        Alcaldia/Municipio                       Colonia         Ciudad MX  \\\n",
       "12113             MEXICALI                    SAN MARCOS   BAJA CALIFORNIA   \n",
       "12114       AGUASCALIENTES                     GUADALUPE    AGUASCALIENTES   \n",
       "12115  ECATEPEC DE MORELOS  NUEVO PASEO SAN AGUSTÍN 3A B            MÉXICO   \n",
       "12116  ECATEPEC DE MORELOS          CARLOS HANK GONZÁLEZ            MÉXICO   \n",
       "12117     GENERAL ESCOBEDO                  ALIANZA REAL        NUEVO LEÓN   \n",
       "...                    ...                           ...               ...   \n",
       "31162            QUERÉTARO                  COMERCIANTES         QUERÉTARO   \n",
       "31163  VENUSTIANO CARRANZA             ARENAL 1A SECCIÓN  CIUDAD DE MÉXICO   \n",
       "31164  TLALNEPANTLA DE BAZ    LOMAS DE SAN ANDRÉS ATENCO            MÉXICO   \n",
       "31165  SANTIAGO MIAHUATLÁN           SANTIAGO MIAHUATLÁN            PUEBLA   \n",
       "31166             MEXICALI             INSURGENTES OESTE   BAJA CALIFORNIA   \n",
       "\n",
       "                                                   Calle  Codigo Postal  \\\n",
       "12113                                       Del Farallon        21050.0   \n",
       "12114                                      Guadalupe 448        20059.0   \n",
       "12115                                             sur 82        55130.0   \n",
       "12116                                Monte de los Olivos        55520.0   \n",
       "12117  Privada Campeche 122 alianza Real general Esco...        66084.0   \n",
       "...                                                  ...            ...   \n",
       "31162                                            Calle 1        76087.0   \n",
       "31163                                          Axayacatl        15600.0   \n",
       "31164                                         CUERNAVACA        54040.0   \n",
       "31165                                             Sonora        75820.0   \n",
       "31166                              Jose G valenzuela 241        21280.0   \n",
       "\n",
       "       Ingreso Neto  Trully Listed Weeks  ...  Year Since Last Job  \\\n",
       "12113   MXN7.500,00                  NaN  ...                  NaN   \n",
       "12114   MXN7.384,26                172.0  ...                 -8.0   \n",
       "12115  MXN19.878,04                  NaN  ...                  NaN   \n",
       "12116  MXN18.641,74                  NaN  ...                  NaN   \n",
       "12117  MXN13.463,84                  NaN  ...                  NaN   \n",
       "...             ...                  ...  ...                  ...   \n",
       "31162   MXN5.748,00                  NaN  ...                  NaN   \n",
       "31163  MXN15.230,00                  NaN  ...                  NaN   \n",
       "31164  MXN15.549,56                541.0  ...                 -2.0   \n",
       "31165   MXN6.563,18                 65.0  ...                  0.0   \n",
       "31166  MXN11.027,12                  NaN  ...                  NaN   \n",
       "\n",
       "      Fecha de creación del préstamo  Fecha de nacimiento  Edad cliente  \\\n",
       "12113                     31/05/2024            9/02/1973            51   \n",
       "12114                     31/05/2024           24/01/1993            31   \n",
       "12115                     31/05/2024            7/11/1983            41   \n",
       "12116                     31/05/2024           27/06/1989            35   \n",
       "12117                     31/05/2024           22/06/1997            27   \n",
       "...                              ...                  ...           ...   \n",
       "31162                      7/09/2023           25/09/1997            27   \n",
       "31163                      7/09/2023            8/12/1994            30   \n",
       "31164                     30/05/2024           13/10/1993            31   \n",
       "31165                     15/06/2024            7/11/1994            30   \n",
       "31166                      9/09/2024            9/11/1990            34   \n",
       "\n",
       "      Mora máxima      Rango Mora Estatus préstamo  Ingreso Neto Numérico  \\\n",
       "12113           3         Premora        Pendiente                7500.00   \n",
       "12114         168   Mora 120 días        Pendiente                7384.26   \n",
       "12115         168   Mora 120 días        Pendiente               19878.04   \n",
       "12116          -1        Sin mora        Pendiente               18641.74   \n",
       "12117          -2        Sin mora        Pendiente               13463.84   \n",
       "...           ...             ...              ...                    ...   \n",
       "31162         427  Mora +360 días        Pendiente                5748.00   \n",
       "31163         427  Mora +360 días        Pendiente               15230.00   \n",
       "31164         168   Mora 120 días        Pendiente               15549.56   \n",
       "31165         138   Mora 120 días        Pendiente                6563.18   \n",
       "31166          46    Mora 45 días        Pendiente               11027.12   \n",
       "\n",
       "      Con Mora Pagado  \n",
       "12113        1      0  \n",
       "12114        1      0  \n",
       "12115        1      0  \n",
       "12116        1      0  \n",
       "12117        1      0  \n",
       "...        ...    ...  \n",
       "31162        1      0  \n",
       "31163        1      0  \n",
       "31164        1      0  \n",
       "31165        1      0  \n",
       "31166        1      0  \n",
       "\n",
       "[18818 rows x 23 columns]"
      ]
     },
     "execution_count": 194,
     "metadata": {},
     "output_type": "execute_result"
    }
   ],
   "source": [
    "tabla"
   ]
  },
  {
   "cell_type": "code",
   "execution_count": 163,
   "metadata": {},
   "outputs": [
    {
     "data": {
      "text/plain": [
       "<DatetimeArray>\n",
       "['2024-05-31 00:00:00', '2024-05-30 00:00:00', '2024-05-29 00:00:00',\n",
       " '2024-05-28 00:00:00', '2024-05-27 00:00:00', '2024-05-26 00:00:00',\n",
       " '2024-05-25 00:00:00', '2024-05-24 00:00:00', '2024-05-23 00:00:00',\n",
       " '2024-05-22 00:00:00',\n",
       " ...\n",
       " '2023-09-16 00:00:00', '2023-09-15 00:00:00', '2023-09-14 00:00:00',\n",
       " '2023-09-13 00:00:00', '2023-09-12 00:00:00', '2023-09-11 00:00:00',\n",
       " '2023-09-10 00:00:00', '2023-09-09 00:00:00', '2023-09-08 00:00:00',\n",
       " '2023-09-07 00:00:00']\n",
       "Length: 268, dtype: datetime64[ns]"
      ]
     },
     "execution_count": 163,
     "metadata": {},
     "output_type": "execute_result"
    }
   ],
   "source": [
    "fecha_filtro = '2024-06-01'\n",
    "tabla = tabla[tabla['Fecha de creación'] < fecha_filtro]\n",
    "\n",
    "ingreso_filtro = 100000\n",
    "tabla = tabla[tabla['Ingreso Neto Numérico'] < ingreso_filtro]\n",
    "\n",
    "tabla['Fecha de creación'].unique()"
   ]
  },
  {
   "cell_type": "code",
   "execution_count": 164,
   "metadata": {},
   "outputs": [
    {
     "data": {
      "text/plain": [
       "<Axes: xlabel='Ingreso Neto Numérico', ylabel='Density'>"
      ]
     },
     "execution_count": 164,
     "metadata": {},
     "output_type": "execute_result"
    },
    {
     "data": {
      "image/png": "[encoded data removed]",
      "text/plain": [
       "<Figure size 640x480 with 1 Axes>"
      ]
     },
     "metadata": {},
     "output_type": "display_data"
    }
   ],
   "source": [
    "sns.kdeplot(data=tabla, x='Ingreso Neto Numérico')"
   ]
  },
  {
   "cell_type": "code",
   "execution_count": 195,
   "metadata": {},
   "outputs": [
    {
     "name": "stdout",
     "output_type": "stream",
     "text": [
      "<class 'pandas.core.frame.DataFrame'>\n",
      "Index: 18818 entries, 12113 to 31166\n",
      "Data columns (total 23 columns):\n",
      " #   Column                          Non-Null Count  Dtype         \n",
      "---  ------                          --------------  -----         \n",
      " 0   Código Formulario               18818 non-null  object        \n",
      " 1   Codigo Prestamo                 18818 non-null  object        \n",
      " 2   Fecha de creación               18818 non-null  datetime64[ns]\n",
      " 3   Alcaldia/Municipio              18817 non-null  object        \n",
      " 4   Colonia                         18817 non-null  object        \n",
      " 5   Ciudad MX                       18816 non-null  object        \n",
      " 6   Calle                           18817 non-null  object        \n",
      " 7   Codigo Postal                   18817 non-null  float64       \n",
      " 8   Ingreso Neto                    18818 non-null  object        \n",
      " 9   Trully Listed Weeks             646 non-null    float64       \n",
      " 10  ScoreFisValor                   9580 non-null   float64       \n",
      " 11  Con trabajo actual              12193 non-null  object        \n",
      " 12  Total jobs                      646 non-null    float64       \n",
      " 13  Year Since Last Job             614 non-null    float64       \n",
      " 14  Fecha de creación del préstamo  18818 non-null  object        \n",
      " 15  Fecha de nacimiento             18818 non-null  object        \n",
      " 16  Edad cliente                    18818 non-null  object        \n",
      " 17  Mora máxima                     18818 non-null  int64         \n",
      " 18  Rango Mora                      18818 non-null  object        \n",
      " 19  Estatus préstamo                18818 non-null  object        \n",
      " 20  Ingreso Neto Numérico           18818 non-null  float64       \n",
      " 21  Con Mora                        18818 non-null  object        \n",
      " 22  Pagado                          18818 non-null  int64         \n",
      "dtypes: datetime64[ns](1), float64(6), int64(2), object(14)\n",
      "memory usage: 3.4+ MB\n"
     ]
    }
   ],
   "source": [
    "tabla.info()"
   ]
  },
  {
   "cell_type": "code",
   "execution_count": 149,
   "metadata": {},
   "outputs": [
    {
     "data": {
      "text/plain": [
       "array(['Pendiente', 'Pagado', 'Contracargo'], dtype=object)"
      ]
     },
     "execution_count": 149,
     "metadata": {},
     "output_type": "execute_result"
    }
   ],
   "source": [
    "tabla['Estatus préstamo'].unique()"
   ]
  },
  {
   "cell_type": "code",
   "execution_count": 150,
   "metadata": {},
   "outputs": [
    {
     "data": {
      "text/plain": [
       "<Axes: title={'center': 'Frecuencia Estados'}, xlabel='Estado', ylabel='Frecuencia'>"
      ]
     },
     "execution_count": 150,
     "metadata": {},
     "output_type": "execute_result"
    },
    {
     "data": {
      "image/png": "[encoded data removed]",
      "text/plain": [
       "<Figure size 600x400 with 1 Axes>"
      ]
     },
     "metadata": {},
     "output_type": "display_data"
    }
   ],
   "source": [
    "tabla['Ciudad MX'].value_counts()[0:100].plot(kind='bar',figsize=(6,4),xlabel='Estado',ylabel='Frecuencia',title='Frecuencia Estados')"
   ]
  },
  {
   "cell_type": "code",
   "execution_count": 153,
   "metadata": {},
   "outputs": [
    {
     "data": {
      "text/plain": [
       "Estatus préstamo\n",
       "Pendiente      18573\n",
       "Pagado           185\n",
       "Contracargo       60\n",
       "Name: count, dtype: int64"
      ]
     },
     "execution_count": 153,
     "metadata": {},
     "output_type": "execute_result"
    }
   ],
   "source": [
    "tabla['Estatus préstamo'].value_counts()"
   ]
  },
  {
   "cell_type": "code",
   "execution_count": 151,
   "metadata": {},
   "outputs": [
    {
     "data": {
      "text/plain": [
       "<Axes: xlabel='Estatus préstamo', ylabel='Ingreso Neto Numérico'>"
      ]
     },
     "execution_count": 151,
     "metadata": {},
     "output_type": "execute_result"
    },
    {
     "data": {
      "image/png": "[encoded data removed]",
      "text/plain": [
       "<Figure size 640x480 with 1 Axes>"
      ]
     },
     "metadata": {},
     "output_type": "display_data"
    }
   ],
   "source": [
    "sns.boxplot(data=tabla, x='Estatus préstamo',y='Ingreso Neto Numérico')"
   ]
  },
  {
   "cell_type": "code",
   "execution_count": 187,
   "metadata": {},
   "outputs": [],
   "source": [
    "ingreso_promedio = tabla.groupby('Ciudad MX')['Ingreso Neto Numérico'].mean().reset_index()\n",
    "ingreso_promedio = ingreso_promedio.sort_values(by='Ingreso Neto Numérico', ascending=False)\n"
   ]
  },
  {
   "cell_type": "code",
   "execution_count": 198,
   "metadata": {},
   "outputs": [],
   "source": [
    "pago_promedio = tabla.groupby('Ciudad MX')['Pagado'].mean().reset_index()\n",
    "pago_promedio = pago_promedio.sort_values(by='Pagado', ascending=False)"
   ]
  },
  {
   "cell_type": "code",
   "execution_count": 174,
   "metadata": {},
   "outputs": [
    {
     "name": "stderr",
     "output_type": "stream",
     "text": [
      "C:\\Users\\Rafael\\AppData\\Local\\Temp\\ipykernel_11940\\2054889983.py:3: FutureWarning: \n",
      "\n",
      "Passing `palette` without assigning `hue` is deprecated and will be removed in v0.14.0. Assign the `x` variable to `hue` and set `legend=False` for the same effect.\n",
      "\n",
      "  sns.barplot(x='Ciudad MX', y='Ingreso Neto Numérico', data=ingreso_promedio, palette='viridis')\n"
     ]
    },
    {
     "data": {
      "image/png": "[encoded data removed]",
      "text/plain": [
       "<Figure size 1000x600 with 1 Axes>"
      ]
     },
     "metadata": {},
     "output_type": "display_data"
    }
   ],
   "source": [
    "# Crear el gráfico\n",
    "plt.figure(figsize=(10, 6))\n",
    "sns.barplot(x='Ciudad MX', y='Ingreso Neto Numérico', data=ingreso_promedio, palette='viridis')\n",
    "plt.title('Ingreso Neto Promedio por Estado', fontsize=16)\n",
    "plt.xlabel('Estado', fontsize=14)\n",
    "plt.ylabel('Ingreso Neto Promedio (MXN)', fontsize=14)\n",
    "plt.xticks(rotation=90, fontsize=12)  # Rotar etiquetas del eje X\n",
    "plt.yticks(fontsize=12)\n",
    "plt.grid(axis='y', linestyle='--', alpha=0.7)\n",
    "plt.tight_layout()  # Ajusta el diseño para evitar recortes\n",
    "plt.show()"
   ]
  },
  {
   "cell_type": "code",
   "execution_count": 199,
   "metadata": {},
   "outputs": [
    {
     "name": "stderr",
     "output_type": "stream",
     "text": [
      "C:\\Users\\Rafael\\AppData\\Local\\Temp\\ipykernel_11940\\4231814519.py:3: FutureWarning: \n",
      "\n",
      "Passing `palette` without assigning `hue` is deprecated and will be removed in v0.14.0. Assign the `x` variable to `hue` and set `legend=False` for the same effect.\n",
      "\n",
      "  sns.barplot(x='Ciudad MX', y='Pagado', data=pago_promedio, palette='viridis')\n"
     ]
    },
    {
     "data": {
      "image/png": "[encoded data removed]",
      "text/plain": [
       "<Figure size 1000x600 with 1 Axes>"
      ]
     },
     "metadata": {},
     "output_type": "display_data"
    }
   ],
   "source": [
    "# Crear el gráfico\n",
    "plt.figure(figsize=(10, 6))\n",
    "sns.barplot(x='Ciudad MX', y='Pagado', data=pago_promedio, palette='viridis')\n",
    "plt.title('Porcentaje de pago por Estado', fontsize=16)\n",
    "plt.xlabel('Estado', fontsize=14)\n",
    "plt.ylabel('Pago (%)', fontsize=14)\n",
    "plt.xticks(rotation=90, fontsize=12)  # Rotar etiquetas del eje X\n",
    "plt.yticks(fontsize=12)\n",
    "plt.grid(axis='y', linestyle='--', alpha=0.7)\n",
    "plt.tight_layout()  # Ajusta el diseño para evitar recortes\n",
    "plt.show()"
   ]
  },
  {
   "cell_type": "code",
   "execution_count": 203,
   "metadata": {},
   "outputs": [
    {
     "data": {
      "text/html": [
       "<div>\n",
       "<style scoped>\n",
       "    .dataframe tbody tr th:only-of-type {\n",
       "        vertical-align: middle;\n",
       "    }\n",
       "\n",
       "    .dataframe tbody tr th {\n",
       "        vertical-align: top;\n",
       "    }\n",
       "\n",
       "    .dataframe thead th {\n",
       "        text-align: right;\n",
       "    }\n",
       "</style>\n",
       "<table border=\"1\" class=\"dataframe\">\n",
       "  <thead>\n",
       "    <tr style=\"text-align: right;\">\n",
       "      <th></th>\n",
       "      <th>Ciudad MX</th>\n",
       "      <th>Ingreso Neto Numérico</th>\n",
       "      <th>Pagado</th>\n",
       "    </tr>\n",
       "  </thead>\n",
       "  <tbody>\n",
       "    <tr>\n",
       "      <th>0</th>\n",
       "      <td>BAJA CALIFORNIA SUR</td>\n",
       "      <td>13187.331097</td>\n",
       "      <td>0.012903</td>\n",
       "    </tr>\n",
       "    <tr>\n",
       "      <th>1</th>\n",
       "      <td>NUEVO LEÓN</td>\n",
       "      <td>12174.418532</td>\n",
       "      <td>0.014170</td>\n",
       "    </tr>\n",
       "    <tr>\n",
       "      <th>2</th>\n",
       "      <td>TAMAULIPAS</td>\n",
       "      <td>11492.377658</td>\n",
       "      <td>0.015385</td>\n",
       "    </tr>\n",
       "    <tr>\n",
       "      <th>3</th>\n",
       "      <td>BAJA CALIFORNIA</td>\n",
       "      <td>11256.096763</td>\n",
       "      <td>0.007707</td>\n",
       "    </tr>\n",
       "    <tr>\n",
       "      <th>4</th>\n",
       "      <td>CIUDAD DE MÉXICO</td>\n",
       "      <td>11214.489614</td>\n",
       "      <td>0.012201</td>\n",
       "    </tr>\n",
       "    <tr>\n",
       "      <th>5</th>\n",
       "      <td>COAHUILA DE ZARAGOZA</td>\n",
       "      <td>11189.549333</td>\n",
       "      <td>0.003922</td>\n",
       "    </tr>\n",
       "    <tr>\n",
       "      <th>6</th>\n",
       "      <td>CHIHUAHUA</td>\n",
       "      <td>10999.713448</td>\n",
       "      <td>0.012539</td>\n",
       "    </tr>\n",
       "    <tr>\n",
       "      <th>7</th>\n",
       "      <td>SAN LUIS POTOSÍ</td>\n",
       "      <td>10797.085113</td>\n",
       "      <td>0.005650</td>\n",
       "    </tr>\n",
       "    <tr>\n",
       "      <th>8</th>\n",
       "      <td>ZACATECAS</td>\n",
       "      <td>10422.391228</td>\n",
       "      <td>0.000000</td>\n",
       "    </tr>\n",
       "    <tr>\n",
       "      <th>9</th>\n",
       "      <td>JALISCO</td>\n",
       "      <td>10306.190519</td>\n",
       "      <td>0.012969</td>\n",
       "    </tr>\n",
       "    <tr>\n",
       "      <th>10</th>\n",
       "      <td>QUINTANA ROO</td>\n",
       "      <td>10158.434235</td>\n",
       "      <td>0.003922</td>\n",
       "    </tr>\n",
       "    <tr>\n",
       "      <th>11</th>\n",
       "      <td>SONORA</td>\n",
       "      <td>10147.864187</td>\n",
       "      <td>0.013333</td>\n",
       "    </tr>\n",
       "    <tr>\n",
       "      <th>12</th>\n",
       "      <td>MÉXICO</td>\n",
       "      <td>10102.261647</td>\n",
       "      <td>0.010214</td>\n",
       "    </tr>\n",
       "    <tr>\n",
       "      <th>13</th>\n",
       "      <td>QUERÉTARO</td>\n",
       "      <td>10029.900473</td>\n",
       "      <td>0.005682</td>\n",
       "    </tr>\n",
       "    <tr>\n",
       "      <th>14</th>\n",
       "      <td>COLIMA</td>\n",
       "      <td>9535.752180</td>\n",
       "      <td>0.015038</td>\n",
       "    </tr>\n",
       "    <tr>\n",
       "      <th>15</th>\n",
       "      <td>GUANAJUATO</td>\n",
       "      <td>9458.560653</td>\n",
       "      <td>0.004353</td>\n",
       "    </tr>\n",
       "    <tr>\n",
       "      <th>16</th>\n",
       "      <td>CHIAPAS</td>\n",
       "      <td>9376.887024</td>\n",
       "      <td>0.005952</td>\n",
       "    </tr>\n",
       "    <tr>\n",
       "      <th>17</th>\n",
       "      <td>DURANGO</td>\n",
       "      <td>9153.834114</td>\n",
       "      <td>0.009494</td>\n",
       "    </tr>\n",
       "    <tr>\n",
       "      <th>18</th>\n",
       "      <td>AGUASCALIENTES</td>\n",
       "      <td>9077.860622</td>\n",
       "      <td>0.020725</td>\n",
       "    </tr>\n",
       "    <tr>\n",
       "      <th>19</th>\n",
       "      <td>OAXACA</td>\n",
       "      <td>9045.603204</td>\n",
       "      <td>0.014085</td>\n",
       "    </tr>\n",
       "    <tr>\n",
       "      <th>20</th>\n",
       "      <td>GUERRERO</td>\n",
       "      <td>8919.308556</td>\n",
       "      <td>0.016043</td>\n",
       "    </tr>\n",
       "    <tr>\n",
       "      <th>21</th>\n",
       "      <td>SINALOA</td>\n",
       "      <td>8890.514964</td>\n",
       "      <td>0.007194</td>\n",
       "    </tr>\n",
       "    <tr>\n",
       "      <th>22</th>\n",
       "      <td>MORELOS</td>\n",
       "      <td>8822.789461</td>\n",
       "      <td>0.014970</td>\n",
       "    </tr>\n",
       "    <tr>\n",
       "      <th>23</th>\n",
       "      <td>VERACRUZ DE IGNACIO DE LA LLAVE</td>\n",
       "      <td>8754.291047</td>\n",
       "      <td>0.007375</td>\n",
       "    </tr>\n",
       "    <tr>\n",
       "      <th>24</th>\n",
       "      <td>TABASCO</td>\n",
       "      <td>8671.520493</td>\n",
       "      <td>0.008696</td>\n",
       "    </tr>\n",
       "    <tr>\n",
       "      <th>25</th>\n",
       "      <td>TLAXCALA</td>\n",
       "      <td>8472.668168</td>\n",
       "      <td>0.020942</td>\n",
       "    </tr>\n",
       "    <tr>\n",
       "      <th>26</th>\n",
       "      <td>MICHOACÁN DE OCAMPO</td>\n",
       "      <td>8463.040229</td>\n",
       "      <td>0.006865</td>\n",
       "    </tr>\n",
       "    <tr>\n",
       "      <th>27</th>\n",
       "      <td>HIDALGO</td>\n",
       "      <td>8334.881962</td>\n",
       "      <td>0.005376</td>\n",
       "    </tr>\n",
       "    <tr>\n",
       "      <th>28</th>\n",
       "      <td>PUEBLA</td>\n",
       "      <td>8286.193366</td>\n",
       "      <td>0.004950</td>\n",
       "    </tr>\n",
       "    <tr>\n",
       "      <th>29</th>\n",
       "      <td>NAYARIT</td>\n",
       "      <td>8188.721932</td>\n",
       "      <td>0.005682</td>\n",
       "    </tr>\n",
       "    <tr>\n",
       "      <th>30</th>\n",
       "      <td>YUCATÁN</td>\n",
       "      <td>8167.308682</td>\n",
       "      <td>0.001938</td>\n",
       "    </tr>\n",
       "    <tr>\n",
       "      <th>31</th>\n",
       "      <td>CAMPECHE</td>\n",
       "      <td>7836.942660</td>\n",
       "      <td>0.026596</td>\n",
       "    </tr>\n",
       "  </tbody>\n",
       "</table>\n",
       "</div>"
      ],
      "text/plain": [
       "                          Ciudad MX  Ingreso Neto Numérico    Pagado\n",
       "0               BAJA CALIFORNIA SUR           13187.331097  0.012903\n",
       "1                        NUEVO LEÓN           12174.418532  0.014170\n",
       "2                        TAMAULIPAS           11492.377658  0.015385\n",
       "3                   BAJA CALIFORNIA           11256.096763  0.007707\n",
       "4                  CIUDAD DE MÉXICO           11214.489614  0.012201\n",
       "5              COAHUILA DE ZARAGOZA           11189.549333  0.003922\n",
       "6                         CHIHUAHUA           10999.713448  0.012539\n",
       "7                   SAN LUIS POTOSÍ           10797.085113  0.005650\n",
       "8                         ZACATECAS           10422.391228  0.000000\n",
       "9                           JALISCO           10306.190519  0.012969\n",
       "10                     QUINTANA ROO           10158.434235  0.003922\n",
       "11                           SONORA           10147.864187  0.013333\n",
       "12                           MÉXICO           10102.261647  0.010214\n",
       "13                        QUERÉTARO           10029.900473  0.005682\n",
       "14                           COLIMA            9535.752180  0.015038\n",
       "15                       GUANAJUATO            9458.560653  0.004353\n",
       "16                          CHIAPAS            9376.887024  0.005952\n",
       "17                          DURANGO            9153.834114  0.009494\n",
       "18                   AGUASCALIENTES            9077.860622  0.020725\n",
       "19                           OAXACA            9045.603204  0.014085\n",
       "20                         GUERRERO            8919.308556  0.016043\n",
       "21                          SINALOA            8890.514964  0.007194\n",
       "22                          MORELOS            8822.789461  0.014970\n",
       "23  VERACRUZ DE IGNACIO DE LA LLAVE            8754.291047  0.007375\n",
       "24                          TABASCO            8671.520493  0.008696\n",
       "25                         TLAXCALA            8472.668168  0.020942\n",
       "26              MICHOACÁN DE OCAMPO            8463.040229  0.006865\n",
       "27                          HIDALGO            8334.881962  0.005376\n",
       "28                           PUEBLA            8286.193366  0.004950\n",
       "29                          NAYARIT            8188.721932  0.005682\n",
       "30                          YUCATÁN            8167.308682  0.001938\n",
       "31                         CAMPECHE            7836.942660  0.026596"
      ]
     },
     "execution_count": 203,
     "metadata": {},
     "output_type": "execute_result"
    }
   ],
   "source": [
    "tabla_combinada = pd.merge(ingreso_promedio, pago_promedio, on='Ciudad MX')\n",
    "tabla_combinada"
   ]
  },
  {
   "cell_type": "code",
   "execution_count": 206,
   "metadata": {},
   "outputs": [
    {
     "name": "stdout",
     "output_type": "stream",
     "text": [
      "Defaulting to user installation because normal site-packages is not writeable\n",
      "Requirement already satisfied: plotly in c:\\users\\rafael\\appdata\\local\\packages\\pythonsoftwarefoundation.python.3.12_qbz5n2kfra8p0\\localcache\\local-packages\\python312\\site-packages (5.24.1)\n",
      "Requirement already satisfied: tenacity>=6.2.0 in c:\\users\\rafael\\appdata\\local\\packages\\pythonsoftwarefoundation.python.3.12_qbz5n2kfra8p0\\localcache\\local-packages\\python312\\site-packages (from plotly) (9.0.0)\n",
      "Requirement already satisfied: packaging in c:\\users\\rafael\\appdata\\local\\packages\\pythonsoftwarefoundation.python.3.12_qbz5n2kfra8p0\\localcache\\local-packages\\python312\\site-packages (from plotly) (24.2)\n"
     ]
    }
   ],
   "source": [
    "!pip install plotly"
   ]
  },
  {
   "cell_type": "code",
   "execution_count": 207,
   "metadata": {},
   "outputs": [],
   "source": [
    "import plotly.express as px"
   ]
  },
  {
   "cell_type": "code",
   "execution_count": 211,
   "metadata": {},
   "outputs": [
    {
     "ename": "ValueError",
     "evalue": "Mime type rendering requires nbformat>=4.2.0 but it is not installed",
     "output_type": "error",
     "traceback": [
      "\u001b[1;31m---------------------------------------------------------------------------\u001b[0m",
      "\u001b[1;31mValueError\u001b[0m                                Traceback (most recent call last)",
      "File \u001b[1;32m~\\AppData\\Local\\Packages\\PythonSoftwareFoundation.Python.3.12_qbz5n2kfra8p0\\LocalCache\\local-packages\\Python312\\site-packages\\IPython\\core\\formatters.py:984\u001b[0m, in \u001b[0;36mIPythonDisplayFormatter.__call__\u001b[1;34m(self, obj)\u001b[0m\n\u001b[0;32m    982\u001b[0m method \u001b[38;5;241m=\u001b[39m get_real_method(obj, \u001b[38;5;28mself\u001b[39m\u001b[38;5;241m.\u001b[39mprint_method)\n\u001b[0;32m    983\u001b[0m \u001b[38;5;28;01mif\u001b[39;00m method \u001b[38;5;129;01mis\u001b[39;00m \u001b[38;5;129;01mnot\u001b[39;00m \u001b[38;5;28;01mNone\u001b[39;00m:\n\u001b[1;32m--> 984\u001b[0m     \u001b[43mmethod\u001b[49m\u001b[43m(\u001b[49m\u001b[43m)\u001b[49m\n\u001b[0;32m    985\u001b[0m     \u001b[38;5;28;01mreturn\u001b[39;00m \u001b[38;5;28;01mTrue\u001b[39;00m\n",
      "File \u001b[1;32m~\\AppData\\Local\\Packages\\PythonSoftwareFoundation.Python.3.12_qbz5n2kfra8p0\\LocalCache\\local-packages\\Python312\\site-packages\\plotly\\basedatatypes.py:832\u001b[0m, in \u001b[0;36mBaseFigure._ipython_display_\u001b[1;34m(self)\u001b[0m\n\u001b[0;32m    829\u001b[0m \u001b[38;5;28;01mimport\u001b[39;00m \u001b[38;5;21;01mplotly\u001b[39;00m\u001b[38;5;21;01m.\u001b[39;00m\u001b[38;5;21;01mio\u001b[39;00m \u001b[38;5;28;01mas\u001b[39;00m \u001b[38;5;21;01mpio\u001b[39;00m\n\u001b[0;32m    831\u001b[0m \u001b[38;5;28;01mif\u001b[39;00m pio\u001b[38;5;241m.\u001b[39mrenderers\u001b[38;5;241m.\u001b[39mrender_on_display \u001b[38;5;129;01mand\u001b[39;00m pio\u001b[38;5;241m.\u001b[39mrenderers\u001b[38;5;241m.\u001b[39mdefault:\n\u001b[1;32m--> 832\u001b[0m     \u001b[43mpio\u001b[49m\u001b[38;5;241;43m.\u001b[39;49m\u001b[43mshow\u001b[49m\u001b[43m(\u001b[49m\u001b[38;5;28;43mself\u001b[39;49m\u001b[43m)\u001b[49m\n\u001b[0;32m    833\u001b[0m \u001b[38;5;28;01melse\u001b[39;00m:\n\u001b[0;32m    834\u001b[0m     \u001b[38;5;28mprint\u001b[39m(\u001b[38;5;28mrepr\u001b[39m(\u001b[38;5;28mself\u001b[39m))\n",
      "File \u001b[1;32m~\\AppData\\Local\\Packages\\PythonSoftwareFoundation.Python.3.12_qbz5n2kfra8p0\\LocalCache\\local-packages\\Python312\\site-packages\\plotly\\io\\_renderers.py:394\u001b[0m, in \u001b[0;36mshow\u001b[1;34m(fig, renderer, validate, **kwargs)\u001b[0m\n\u001b[0;32m    389\u001b[0m         \u001b[38;5;28;01mraise\u001b[39;00m \u001b[38;5;167;01mValueError\u001b[39;00m(\n\u001b[0;32m    390\u001b[0m             \u001b[38;5;124m\"\u001b[39m\u001b[38;5;124mMime type rendering requires ipython but it is not installed\u001b[39m\u001b[38;5;124m\"\u001b[39m\n\u001b[0;32m    391\u001b[0m         )\n\u001b[0;32m    393\u001b[0m     \u001b[38;5;28;01mif\u001b[39;00m \u001b[38;5;129;01mnot\u001b[39;00m nbformat \u001b[38;5;129;01mor\u001b[39;00m Version(nbformat\u001b[38;5;241m.\u001b[39m__version__) \u001b[38;5;241m<\u001b[39m Version(\u001b[38;5;124m\"\u001b[39m\u001b[38;5;124m4.2.0\u001b[39m\u001b[38;5;124m\"\u001b[39m):\n\u001b[1;32m--> 394\u001b[0m         \u001b[38;5;28;01mraise\u001b[39;00m \u001b[38;5;167;01mValueError\u001b[39;00m(\n\u001b[0;32m    395\u001b[0m             \u001b[38;5;124m\"\u001b[39m\u001b[38;5;124mMime type rendering requires nbformat>=4.2.0 but it is not installed\u001b[39m\u001b[38;5;124m\"\u001b[39m\n\u001b[0;32m    396\u001b[0m         )\n\u001b[0;32m    398\u001b[0m     ipython_display\u001b[38;5;241m.\u001b[39mdisplay(bundle, raw\u001b[38;5;241m=\u001b[39m\u001b[38;5;28;01mTrue\u001b[39;00m)\n\u001b[0;32m    400\u001b[0m \u001b[38;5;66;03m# external renderers\u001b[39;00m\n",
      "\u001b[1;31mValueError\u001b[0m: Mime type rendering requires nbformat>=4.2.0 but it is not installed"
     ]
    },
    {
     "data": {
      "application/vnd.plotly.v1+json": {
       "config": {
        "plotlyServerURL": "https://plot.ly"
       },
       "data": [
        {
         "hovertemplate": "Pagado=%{x}<br>Ingreso Neto Numérico=%{y}<br>Ciudad MX=%{text}<extra></extra>",
         "legendgroup": "",
         "marker": {
          "color": "blue",
          "opacity": 0.8,
          "size": 12,
          "symbol": "circle"
         },
         "mode": "markers+text",
         "name": "",
         "orientation": "v",
         "showlegend": false,
         "text": [
          "BAJA CALIFORNIA SUR",
          "NUEVO LEÓN",
          "TAMAULIPAS",
          "BAJA CALIFORNIA",
          "CIUDAD DE MÉXICO",
          "COAHUILA DE ZARAGOZA",
          "CHIHUAHUA",
          "SAN LUIS POTOSÍ",
          "ZACATECAS",
          "JALISCO",
          "QUINTANA ROO",
          "SONORA",
          "MÉXICO",
          "QUERÉTARO",
          "COLIMA",
          "GUANAJUATO",
          "CHIAPAS",
          "DURANGO",
          "AGUASCALIENTES",
          "OAXACA",
          "GUERRERO",
          "SINALOA",
          "MORELOS",
          "VERACRUZ DE IGNACIO DE LA LLAVE",
          "TABASCO",
          "TLAXCALA",
          "MICHOACÁN DE OCAMPO",
          "HIDALGO",
          "PUEBLA",
          "NAYARIT",
          "YUCATÁN",
          "CAMPECHE"
         ],
         "textposition": "top center",
         "type": "scatter",
         "x": [
          0.012903225806451613,
          0.01417004048582996,
          0.015384615384615385,
          0.007707129094412331,
          0.012201073694485115,
          0.00392156862745098,
          0.012539184952978056,
          0.005649717514124294,
          0,
          0.012969283276450512,
          0.00392156862745098,
          0.013333333333333334,
          0.01021355617455896,
          0.005681818181818182,
          0.015037593984962405,
          0.004352557127312296,
          0.005952380952380952,
          0.00949367088607595,
          0.02072538860103627,
          0.014084507042253521,
          0.016042780748663103,
          0.007194244604316547,
          0.014970059880239521,
          0.007374631268436578,
          0.008695652173913044,
          0.020942408376963352,
          0.006864988558352402,
          0.005376344086021506,
          0.0049504950495049506,
          0.005681818181818182,
          0.001937984496124031,
          0.026595744680851064
         ],
         "xaxis": "x",
         "y": [
          13187.331096774195,
          12174.418532388663,
          11492.377658119658,
          11256.09676300578,
          11214.48961444607,
          11189.549333333334,
          10999.713448275861,
          10797.08511299435,
          10422.391228070177,
          10306.190518771331,
          10158.434235294118,
          10147.864186666666,
          10102.261646549056,
          10029.90047348485,
          9535.752180451129,
          9458.560652883569,
          9376.887023809524,
          9153.834113924051,
          9077.860621761658,
          9045.603204225352,
          8919.308556149732,
          8890.514964028778,
          8822.789461077844,
          8754.291047197641,
          8671.520492753623,
          8472.668167539268,
          8463.040228832951,
          8334.88196236559,
          8286.193366336634,
          8188.721931818182,
          8167.308682170543,
          7836.942659574468
         ],
         "yaxis": "y"
        }
       ],
       "layout": {
        "legend": {
         "tracegroupgap": 0
        },
        "template": {
         "data": {
          "bar": [
           {
            "error_x": {
             "color": "#2a3f5f"
            },
            "error_y": {
             "color": "#2a3f5f"
            },
            "marker": {
             "line": {
              "color": "#E5ECF6",
              "width": 0.5
             },
             "pattern": {
              "fillmode": "overlay",
              "size": 10,
              "solidity": 0.2
             }
            },
            "type": "bar"
           }
          ],
          "barpolar": [
           {
            "marker": {
             "line": {
              "color": "#E5ECF6",
              "width": 0.5
             },
             "pattern": {
              "fillmode": "overlay",
              "size": 10,
              "solidity": 0.2
             }
            },
            "type": "barpolar"
           }
          ],
          "carpet": [
           {
            "aaxis": {
             "endlinecolor": "#2a3f5f",
             "gridcolor": "white",
             "linecolor": "white",
             "minorgridcolor": "white",
             "startlinecolor": "#2a3f5f"
            },
            "baxis": {
             "endlinecolor": "#2a3f5f",
             "gridcolor": "white",
             "linecolor": "white",
             "minorgridcolor": "white",
             "startlinecolor": "#2a3f5f"
            },
            "type": "carpet"
           }
          ],
          "choropleth": [
           {
            "colorbar": {
             "outlinewidth": 0,
             "ticks": ""
            },
            "type": "choropleth"
           }
          ],
          "contour": [
           {
            "colorbar": {
             "outlinewidth": 0,
             "ticks": ""
            },
            "colorscale": [
             [
              0,
              "#0d0887"
             ],
             [
              0.1111111111111111,
              "#46039f"
             ],
             [
              0.2222222222222222,
              "#7201a8"
             ],
             [
              0.3333333333333333,
              "#9c179e"
             ],
             [
              0.4444444444444444,
              "#bd3786"
             ],
             [
              0.5555555555555556,
              "#d8576b"
             ],
             [
              0.6666666666666666,
              "#ed7953"
             ],
             [
              0.7777777777777778,
              "#fb9f3a"
             ],
             [
              0.8888888888888888,
              "#fdca26"
             ],
             [
              1,
              "#f0f921"
             ]
            ],
            "type": "contour"
           }
          ],
          "contourcarpet": [
           {
            "colorbar": {
             "outlinewidth": 0,
             "ticks": ""
            },
            "type": "contourcarpet"
           }
          ],
          "heatmap": [
           {
            "colorbar": {
             "outlinewidth": 0,
             "ticks": ""
            },
            "colorscale": [
             [
              0,
              "#0d0887"
             ],
             [
              0.1111111111111111,
              "#46039f"
             ],
             [
              0.2222222222222222,
              "#7201a8"
             ],
             [
              0.3333333333333333,
              "#9c179e"
             ],
             [
              0.4444444444444444,
              "#bd3786"
             ],
             [
              0.5555555555555556,
              "#d8576b"
             ],
             [
              0.6666666666666666,
              "#ed7953"
             ],
             [
              0.7777777777777778,
              "#fb9f3a"
             ],
             [
              0.8888888888888888,
              "#fdca26"
             ],
             [
              1,
              "#f0f921"
             ]
            ],
            "type": "heatmap"
           }
          ],
          "heatmapgl": [
           {
            "colorbar": {
             "outlinewidth": 0,
             "ticks": ""
            },
            "colorscale": [
             [
              0,
              "#0d0887"
             ],
             [
              0.1111111111111111,
              "#46039f"
             ],
             [
              0.2222222222222222,
              "#7201a8"
             ],
             [
              0.3333333333333333,
              "#9c179e"
             ],
             [
              0.4444444444444444,
              "#bd3786"
             ],
             [
              0.5555555555555556,
              "#d8576b"
             ],
             [
              0.6666666666666666,
              "#ed7953"
             ],
             [
              0.7777777777777778,
              "#fb9f3a"
             ],
             [
              0.8888888888888888,
              "#fdca26"
             ],
             [
              1,
              "#f0f921"
             ]
            ],
            "type": "heatmapgl"
           }
          ],
          "histogram": [
           {
            "marker": {
             "pattern": {
              "fillmode": "overlay",
              "size": 10,
              "solidity": 0.2
             }
            },
            "type": "histogram"
           }
          ],
          "histogram2d": [
           {
            "colorbar": {
             "outlinewidth": 0,
             "ticks": ""
            },
            "colorscale": [
             [
              0,
              "#0d0887"
             ],
             [
              0.1111111111111111,
              "#46039f"
             ],
             [
              0.2222222222222222,
              "#7201a8"
             ],
             [
              0.3333333333333333,
              "#9c179e"
             ],
             [
              0.4444444444444444,
              "#bd3786"
             ],
             [
              0.5555555555555556,
              "#d8576b"
             ],
             [
              0.6666666666666666,
              "#ed7953"
             ],
             [
              0.7777777777777778,
              "#fb9f3a"
             ],
             [
              0.8888888888888888,
              "#fdca26"
             ],
             [
              1,
              "#f0f921"
             ]
            ],
            "type": "histogram2d"
           }
          ],
          "histogram2dcontour": [
           {
            "colorbar": {
             "outlinewidth": 0,
             "ticks": ""
            },
            "colorscale": [
             [
              0,
              "#0d0887"
             ],
             [
              0.1111111111111111,
              "#46039f"
             ],
             [
              0.2222222222222222,
              "#7201a8"
             ],
             [
              0.3333333333333333,
              "#9c179e"
             ],
             [
              0.4444444444444444,
              "#bd3786"
             ],
             [
              0.5555555555555556,
              "#d8576b"
             ],
             [
              0.6666666666666666,
              "#ed7953"
             ],
             [
              0.7777777777777778,
              "#fb9f3a"
             ],
             [
              0.8888888888888888,
              "#fdca26"
             ],
             [
              1,
              "#f0f921"
             ]
            ],
            "type": "histogram2dcontour"
           }
          ],
          "mesh3d": [
           {
            "colorbar": {
             "outlinewidth": 0,
             "ticks": ""
            },
            "type": "mesh3d"
           }
          ],
          "parcoords": [
           {
            "line": {
             "colorbar": {
              "outlinewidth": 0,
              "ticks": ""
             }
            },
            "type": "parcoords"
           }
          ],
          "pie": [
           {
            "automargin": true,
            "type": "pie"
           }
          ],
          "scatter": [
           {
            "fillpattern": {
             "fillmode": "overlay",
             "size": 10,
             "solidity": 0.2
            },
            "type": "scatter"
           }
          ],
          "scatter3d": [
           {
            "line": {
             "colorbar": {
              "outlinewidth": 0,
              "ticks": ""
             }
            },
            "marker": {
             "colorbar": {
              "outlinewidth": 0,
              "ticks": ""
             }
            },
            "type": "scatter3d"
           }
          ],
          "scattercarpet": [
           {
            "marker": {
             "colorbar": {
              "outlinewidth": 0,
              "ticks": ""
             }
            },
            "type": "scattercarpet"
           }
          ],
          "scattergeo": [
           {
            "marker": {
             "colorbar": {
              "outlinewidth": 0,
              "ticks": ""
             }
            },
            "type": "scattergeo"
           }
          ],
          "scattergl": [
           {
            "marker": {
             "colorbar": {
              "outlinewidth": 0,
              "ticks": ""
             }
            },
            "type": "scattergl"
           }
          ],
          "scattermapbox": [
           {
            "marker": {
             "colorbar": {
              "outlinewidth": 0,
              "ticks": ""
             }
            },
            "type": "scattermapbox"
           }
          ],
          "scatterpolar": [
           {
            "marker": {
             "colorbar": {
              "outlinewidth": 0,
              "ticks": ""
             }
            },
            "type": "scatterpolar"
           }
          ],
          "scatterpolargl": [
           {
            "marker": {
             "colorbar": {
              "outlinewidth": 0,
              "ticks": ""
             }
            },
            "type": "scatterpolargl"
           }
          ],
          "scatterternary": [
           {
            "marker": {
             "colorbar": {
              "outlinewidth": 0,
              "ticks": ""
             }
            },
            "type": "scatterternary"
           }
          ],
          "surface": [
           {
            "colorbar": {
             "outlinewidth": 0,
             "ticks": ""
            },
            "colorscale": [
             [
              0,
              "#0d0887"
             ],
             [
              0.1111111111111111,
              "#46039f"
             ],
             [
              0.2222222222222222,
              "#7201a8"
             ],
             [
              0.3333333333333333,
              "#9c179e"
             ],
             [
              0.4444444444444444,
              "#bd3786"
             ],
             [
              0.5555555555555556,
              "#d8576b"
             ],
             [
              0.6666666666666666,
              "#ed7953"
             ],
             [
              0.7777777777777778,
              "#fb9f3a"
             ],
             [
              0.8888888888888888,
              "#fdca26"
             ],
             [
              1,
              "#f0f921"
             ]
            ],
            "type": "surface"
           }
          ],
          "table": [
           {
            "cells": {
             "fill": {
              "color": "#EBF0F8"
             },
             "line": {
              "color": "white"
             }
            },
            "header": {
             "fill": {
              "color": "#C8D4E3"
             },
             "line": {
              "color": "white"
             }
            },
            "type": "table"
           }
          ]
         },
         "layout": {
          "annotationdefaults": {
           "arrowcolor": "#2a3f5f",
           "arrowhead": 0,
           "arrowwidth": 1
          },
          "autotypenumbers": "strict",
          "coloraxis": {
           "colorbar": {
            "outlinewidth": 0,
            "ticks": ""
           }
          },
          "colorscale": {
           "diverging": [
            [
             0,
             "#8e0152"
            ],
            [
             0.1,
             "#c51b7d"
            ],
            [
             0.2,
             "#de77ae"
            ],
            [
             0.3,
             "#f1b6da"
            ],
            [
             0.4,
             "#fde0ef"
            ],
            [
             0.5,
             "#f7f7f7"
            ],
            [
             0.6,
             "#e6f5d0"
            ],
            [
             0.7,
             "#b8e186"
            ],
            [
             0.8,
             "#7fbc41"
            ],
            [
             0.9,
             "#4d9221"
            ],
            [
             1,
             "#276419"
            ]
           ],
           "sequential": [
            [
             0,
             "#0d0887"
            ],
            [
             0.1111111111111111,
             "#46039f"
            ],
            [
             0.2222222222222222,
             "#7201a8"
            ],
            [
             0.3333333333333333,
             "#9c179e"
            ],
            [
             0.4444444444444444,
             "#bd3786"
            ],
            [
             0.5555555555555556,
             "#d8576b"
            ],
            [
             0.6666666666666666,
             "#ed7953"
            ],
            [
             0.7777777777777778,
             "#fb9f3a"
            ],
            [
             0.8888888888888888,
             "#fdca26"
            ],
            [
             1,
             "#f0f921"
            ]
           ],
           "sequentialminus": [
            [
             0,
             "#0d0887"
            ],
            [
             0.1111111111111111,
             "#46039f"
            ],
            [
             0.2222222222222222,
             "#7201a8"
            ],
            [
             0.3333333333333333,
             "#9c179e"
            ],
            [
             0.4444444444444444,
             "#bd3786"
            ],
            [
             0.5555555555555556,
             "#d8576b"
            ],
            [
             0.6666666666666666,
             "#ed7953"
            ],
            [
             0.7777777777777778,
             "#fb9f3a"
            ],
            [
             0.8888888888888888,
             "#fdca26"
            ],
            [
             1,
             "#f0f921"
            ]
           ]
          },
          "colorway": [
           "#636efa",
           "#EF553B",
           "#00cc96",
           "#ab63fa",
           "#FFA15A",
           "#19d3f3",
           "#FF6692",
           "#B6E880",
           "#FF97FF",
           "#FECB52"
          ],
          "font": {
           "color": "#2a3f5f"
          },
          "geo": {
           "bgcolor": "white",
           "lakecolor": "white",
           "landcolor": "#E5ECF6",
           "showlakes": true,
           "showland": true,
           "subunitcolor": "white"
          },
          "hoverlabel": {
           "align": "left"
          },
          "hovermode": "closest",
          "mapbox": {
           "style": "light"
          },
          "paper_bgcolor": "white",
          "plot_bgcolor": "#E5ECF6",
          "polar": {
           "angularaxis": {
            "gridcolor": "white",
            "linecolor": "white",
            "ticks": ""
           },
           "bgcolor": "#E5ECF6",
           "radialaxis": {
            "gridcolor": "white",
            "linecolor": "white",
            "ticks": ""
           }
          },
          "scene": {
           "xaxis": {
            "backgroundcolor": "#E5ECF6",
            "gridcolor": "white",
            "gridwidth": 2,
            "linecolor": "white",
            "showbackground": true,
            "ticks": "",
            "zerolinecolor": "white"
           },
           "yaxis": {
            "backgroundcolor": "#E5ECF6",
            "gridcolor": "white",
            "gridwidth": 2,
            "linecolor": "white",
            "showbackground": true,
            "ticks": "",
            "zerolinecolor": "white"
           },
           "zaxis": {
            "backgroundcolor": "#E5ECF6",
            "gridcolor": "white",
            "gridwidth": 2,
            "linecolor": "white",
            "showbackground": true,
            "ticks": "",
            "zerolinecolor": "white"
           }
          },
          "shapedefaults": {
           "line": {
            "color": "#2a3f5f"
           }
          },
          "ternary": {
           "aaxis": {
            "gridcolor": "white",
            "linecolor": "white",
            "ticks": ""
           },
           "baxis": {
            "gridcolor": "white",
            "linecolor": "white",
            "ticks": ""
           },
           "bgcolor": "#E5ECF6",
           "caxis": {
            "gridcolor": "white",
            "linecolor": "white",
            "ticks": ""
           }
          },
          "title": {
           "x": 0.05
          },
          "xaxis": {
           "automargin": true,
           "gridcolor": "white",
           "linecolor": "white",
           "ticks": "",
           "title": {
            "standoff": 15
           },
           "zerolinecolor": "white",
           "zerolinewidth": 2
          },
          "yaxis": {
           "automargin": true,
           "gridcolor": "white",
           "linecolor": "white",
           "ticks": "",
           "title": {
            "standoff": 15
           },
           "zerolinecolor": "white",
           "zerolinewidth": 2
          }
         }
        },
        "title": {
         "font": {
          "size": 18
         },
         "text": "Relación entre Porcentaje de Pago y Ingreso Neto Promedio",
         "x": 0.5
        },
        "xaxis": {
         "anchor": "y",
         "domain": [
          0,
          1
         ],
         "title": {
          "text": "Pagado"
         }
        },
        "yaxis": {
         "anchor": "x",
         "domain": [
          0,
          1
         ],
         "title": {
          "text": "Ingreso Neto Numérico"
         }
        }
       }
      },
      "text/html": [
       "<div>                        <script type=\"text/javascript\">window.PlotlyConfig = {MathJaxConfig: 'local'};</script>\n",
       "        <script charset=\"utf-8\" src=\"https://cdn.plot.ly/plotly-2.35.2.min.js\"></script>                <div id=\"cfadd695-ef10-4628-beba-f3fe335b7278\" class=\"plotly-graph-div\" style=\"height:100%; width:100%;\"></div>            <script type=\"text/javascript\">                                    window.PLOTLYENV=window.PLOTLYENV || {};                                    if (document.getElementById(\"cfadd695-ef10-4628-beba-f3fe335b7278\")) {                    Plotly.newPlot(                        \"cfadd695-ef10-4628-beba-f3fe335b7278\",                        [{\"hovertemplate\":\"Pagado=%{x}\\u003cbr\\u003eIngreso Neto Num\\u00e9rico=%{y}\\u003cbr\\u003eCiudad MX=%{text}\\u003cextra\\u003e\\u003c\\u002fextra\\u003e\",\"legendgroup\":\"\",\"marker\":{\"color\":\"blue\",\"symbol\":\"circle\",\"opacity\":0.8,\"size\":12},\"mode\":\"markers+text\",\"name\":\"\",\"orientation\":\"v\",\"showlegend\":false,\"text\":[\"BAJA CALIFORNIA SUR\",\"NUEVO LE\\u00d3N\",\"TAMAULIPAS\",\"BAJA CALIFORNIA\",\"CIUDAD DE M\\u00c9XICO\",\"COAHUILA DE ZARAGOZA\",\"CHIHUAHUA\",\"SAN LUIS POTOS\\u00cd\",\"ZACATECAS\",\"JALISCO\",\"QUINTANA ROO\",\"SONORA\",\"M\\u00c9XICO\",\"QUER\\u00c9TARO\",\"COLIMA\",\"GUANAJUATO\",\"CHIAPAS\",\"DURANGO\",\"AGUASCALIENTES\",\"OAXACA\",\"GUERRERO\",\"SINALOA\",\"MORELOS\",\"VERACRUZ DE IGNACIO DE LA LLAVE\",\"TABASCO\",\"TLAXCALA\",\"MICHOAC\\u00c1N DE OCAMPO\",\"HIDALGO\",\"PUEBLA\",\"NAYARIT\",\"YUCAT\\u00c1N\",\"CAMPECHE\"],\"x\":[0.012903225806451613,0.01417004048582996,0.015384615384615385,0.007707129094412331,0.012201073694485115,0.00392156862745098,0.012539184952978056,0.005649717514124294,0.0,0.012969283276450512,0.00392156862745098,0.013333333333333334,0.01021355617455896,0.005681818181818182,0.015037593984962405,0.004352557127312296,0.005952380952380952,0.00949367088607595,0.02072538860103627,0.014084507042253521,0.016042780748663103,0.007194244604316547,0.014970059880239521,0.007374631268436578,0.008695652173913044,0.020942408376963352,0.006864988558352402,0.005376344086021506,0.0049504950495049506,0.005681818181818182,0.001937984496124031,0.026595744680851064],\"xaxis\":\"x\",\"y\":[13187.331096774195,12174.418532388663,11492.377658119658,11256.09676300578,11214.48961444607,11189.549333333334,10999.713448275861,10797.08511299435,10422.391228070177,10306.190518771331,10158.434235294118,10147.864186666666,10102.261646549056,10029.90047348485,9535.752180451129,9458.560652883569,9376.887023809524,9153.834113924051,9077.860621761658,9045.603204225352,8919.308556149732,8890.514964028778,8822.789461077844,8754.291047197641,8671.520492753623,8472.668167539268,8463.040228832951,8334.88196236559,8286.193366336634,8188.721931818182,8167.308682170543,7836.942659574468],\"yaxis\":\"y\",\"type\":\"scatter\",\"textposition\":\"top center\"}],                        {\"template\":{\"data\":{\"histogram2dcontour\":[{\"type\":\"histogram2dcontour\",\"colorbar\":{\"outlinewidth\":0,\"ticks\":\"\"},\"colorscale\":[[0.0,\"#0d0887\"],[0.1111111111111111,\"#46039f\"],[0.2222222222222222,\"#7201a8\"],[0.3333333333333333,\"#9c179e\"],[0.4444444444444444,\"#bd3786\"],[0.5555555555555556,\"#d8576b\"],[0.6666666666666666,\"#ed7953\"],[0.7777777777777778,\"#fb9f3a\"],[0.8888888888888888,\"#fdca26\"],[1.0,\"#f0f921\"]]}],\"choropleth\":[{\"type\":\"choropleth\",\"colorbar\":{\"outlinewidth\":0,\"ticks\":\"\"}}],\"histogram2d\":[{\"type\":\"histogram2d\",\"colorbar\":{\"outlinewidth\":0,\"ticks\":\"\"},\"colorscale\":[[0.0,\"#0d0887\"],[0.1111111111111111,\"#46039f\"],[0.2222222222222222,\"#7201a8\"],[0.3333333333333333,\"#9c179e\"],[0.4444444444444444,\"#bd3786\"],[0.5555555555555556,\"#d8576b\"],[0.6666666666666666,\"#ed7953\"],[0.7777777777777778,\"#fb9f3a\"],[0.8888888888888888,\"#fdca26\"],[1.0,\"#f0f921\"]]}],\"heatmap\":[{\"type\":\"heatmap\",\"colorbar\":{\"outlinewidth\":0,\"ticks\":\"\"},\"colorscale\":[[0.0,\"#0d0887\"],[0.1111111111111111,\"#46039f\"],[0.2222222222222222,\"#7201a8\"],[0.3333333333333333,\"#9c179e\"],[0.4444444444444444,\"#bd3786\"],[0.5555555555555556,\"#d8576b\"],[0.6666666666666666,\"#ed7953\"],[0.7777777777777778,\"#fb9f3a\"],[0.8888888888888888,\"#fdca26\"],[1.0,\"#f0f921\"]]}],\"heatmapgl\":[{\"type\":\"heatmapgl\",\"colorbar\":{\"outlinewidth\":0,\"ticks\":\"\"},\"colorscale\":[[0.0,\"#0d0887\"],[0.1111111111111111,\"#46039f\"],[0.2222222222222222,\"#7201a8\"],[0.3333333333333333,\"#9c179e\"],[0.4444444444444444,\"#bd3786\"],[0.5555555555555556,\"#d8576b\"],[0.6666666666666666,\"#ed7953\"],[0.7777777777777778,\"#fb9f3a\"],[0.8888888888888888,\"#fdca26\"],[1.0,\"#f0f921\"]]}],\"contourcarpet\":[{\"type\":\"contourcarpet\",\"colorbar\":{\"outlinewidth\":0,\"ticks\":\"\"}}],\"contour\":[{\"type\":\"contour\",\"colorbar\":{\"outlinewidth\":0,\"ticks\":\"\"},\"colorscale\":[[0.0,\"#0d0887\"],[0.1111111111111111,\"#46039f\"],[0.2222222222222222,\"#7201a8\"],[0.3333333333333333,\"#9c179e\"],[0.4444444444444444,\"#bd3786\"],[0.5555555555555556,\"#d8576b\"],[0.6666666666666666,\"#ed7953\"],[0.7777777777777778,\"#fb9f3a\"],[0.8888888888888888,\"#fdca26\"],[1.0,\"#f0f921\"]]}],\"surface\":[{\"type\":\"surface\",\"colorbar\":{\"outlinewidth\":0,\"ticks\":\"\"},\"colorscale\":[[0.0,\"#0d0887\"],[0.1111111111111111,\"#46039f\"],[0.2222222222222222,\"#7201a8\"],[0.3333333333333333,\"#9c179e\"],[0.4444444444444444,\"#bd3786\"],[0.5555555555555556,\"#d8576b\"],[0.6666666666666666,\"#ed7953\"],[0.7777777777777778,\"#fb9f3a\"],[0.8888888888888888,\"#fdca26\"],[1.0,\"#f0f921\"]]}],\"mesh3d\":[{\"type\":\"mesh3d\",\"colorbar\":{\"outlinewidth\":0,\"ticks\":\"\"}}],\"scatter\":[{\"fillpattern\":{\"fillmode\":\"overlay\",\"size\":10,\"solidity\":0.2},\"type\":\"scatter\"}],\"parcoords\":[{\"type\":\"parcoords\",\"line\":{\"colorbar\":{\"outlinewidth\":0,\"ticks\":\"\"}}}],\"scatterpolargl\":[{\"type\":\"scatterpolargl\",\"marker\":{\"colorbar\":{\"outlinewidth\":0,\"ticks\":\"\"}}}],\"bar\":[{\"error_x\":{\"color\":\"#2a3f5f\"},\"error_y\":{\"color\":\"#2a3f5f\"},\"marker\":{\"line\":{\"color\":\"#E5ECF6\",\"width\":0.5},\"pattern\":{\"fillmode\":\"overlay\",\"size\":10,\"solidity\":0.2}},\"type\":\"bar\"}],\"scattergeo\":[{\"type\":\"scattergeo\",\"marker\":{\"colorbar\":{\"outlinewidth\":0,\"ticks\":\"\"}}}],\"scatterpolar\":[{\"type\":\"scatterpolar\",\"marker\":{\"colorbar\":{\"outlinewidth\":0,\"ticks\":\"\"}}}],\"histogram\":[{\"marker\":{\"pattern\":{\"fillmode\":\"overlay\",\"size\":10,\"solidity\":0.2}},\"type\":\"histogram\"}],\"scattergl\":[{\"type\":\"scattergl\",\"marker\":{\"colorbar\":{\"outlinewidth\":0,\"ticks\":\"\"}}}],\"scatter3d\":[{\"type\":\"scatter3d\",\"line\":{\"colorbar\":{\"outlinewidth\":0,\"ticks\":\"\"}},\"marker\":{\"colorbar\":{\"outlinewidth\":0,\"ticks\":\"\"}}}],\"scattermapbox\":[{\"type\":\"scattermapbox\",\"marker\":{\"colorbar\":{\"outlinewidth\":0,\"ticks\":\"\"}}}],\"scatterternary\":[{\"type\":\"scatterternary\",\"marker\":{\"colorbar\":{\"outlinewidth\":0,\"ticks\":\"\"}}}],\"scattercarpet\":[{\"type\":\"scattercarpet\",\"marker\":{\"colorbar\":{\"outlinewidth\":0,\"ticks\":\"\"}}}],\"carpet\":[{\"aaxis\":{\"endlinecolor\":\"#2a3f5f\",\"gridcolor\":\"white\",\"linecolor\":\"white\",\"minorgridcolor\":\"white\",\"startlinecolor\":\"#2a3f5f\"},\"baxis\":{\"endlinecolor\":\"#2a3f5f\",\"gridcolor\":\"white\",\"linecolor\":\"white\",\"minorgridcolor\":\"white\",\"startlinecolor\":\"#2a3f5f\"},\"type\":\"carpet\"}],\"table\":[{\"cells\":{\"fill\":{\"color\":\"#EBF0F8\"},\"line\":{\"color\":\"white\"}},\"header\":{\"fill\":{\"color\":\"#C8D4E3\"},\"line\":{\"color\":\"white\"}},\"type\":\"table\"}],\"barpolar\":[{\"marker\":{\"line\":{\"color\":\"#E5ECF6\",\"width\":0.5},\"pattern\":{\"fillmode\":\"overlay\",\"size\":10,\"solidity\":0.2}},\"type\":\"barpolar\"}],\"pie\":[{\"automargin\":true,\"type\":\"pie\"}]},\"layout\":{\"autotypenumbers\":\"strict\",\"colorway\":[\"#636efa\",\"#EF553B\",\"#00cc96\",\"#ab63fa\",\"#FFA15A\",\"#19d3f3\",\"#FF6692\",\"#B6E880\",\"#FF97FF\",\"#FECB52\"],\"font\":{\"color\":\"#2a3f5f\"},\"hovermode\":\"closest\",\"hoverlabel\":{\"align\":\"left\"},\"paper_bgcolor\":\"white\",\"plot_bgcolor\":\"#E5ECF6\",\"polar\":{\"bgcolor\":\"#E5ECF6\",\"angularaxis\":{\"gridcolor\":\"white\",\"linecolor\":\"white\",\"ticks\":\"\"},\"radialaxis\":{\"gridcolor\":\"white\",\"linecolor\":\"white\",\"ticks\":\"\"}},\"ternary\":{\"bgcolor\":\"#E5ECF6\",\"aaxis\":{\"gridcolor\":\"white\",\"linecolor\":\"white\",\"ticks\":\"\"},\"baxis\":{\"gridcolor\":\"white\",\"linecolor\":\"white\",\"ticks\":\"\"},\"caxis\":{\"gridcolor\":\"white\",\"linecolor\":\"white\",\"ticks\":\"\"}},\"coloraxis\":{\"colorbar\":{\"outlinewidth\":0,\"ticks\":\"\"}},\"colorscale\":{\"sequential\":[[0.0,\"#0d0887\"],[0.1111111111111111,\"#46039f\"],[0.2222222222222222,\"#7201a8\"],[0.3333333333333333,\"#9c179e\"],[0.4444444444444444,\"#bd3786\"],[0.5555555555555556,\"#d8576b\"],[0.6666666666666666,\"#ed7953\"],[0.7777777777777778,\"#fb9f3a\"],[0.8888888888888888,\"#fdca26\"],[1.0,\"#f0f921\"]],\"sequentialminus\":[[0.0,\"#0d0887\"],[0.1111111111111111,\"#46039f\"],[0.2222222222222222,\"#7201a8\"],[0.3333333333333333,\"#9c179e\"],[0.4444444444444444,\"#bd3786\"],[0.5555555555555556,\"#d8576b\"],[0.6666666666666666,\"#ed7953\"],[0.7777777777777778,\"#fb9f3a\"],[0.8888888888888888,\"#fdca26\"],[1.0,\"#f0f921\"]],\"diverging\":[[0,\"#8e0152\"],[0.1,\"#c51b7d\"],[0.2,\"#de77ae\"],[0.3,\"#f1b6da\"],[0.4,\"#fde0ef\"],[0.5,\"#f7f7f7\"],[0.6,\"#e6f5d0\"],[0.7,\"#b8e186\"],[0.8,\"#7fbc41\"],[0.9,\"#4d9221\"],[1,\"#276419\"]]},\"xaxis\":{\"gridcolor\":\"white\",\"linecolor\":\"white\",\"ticks\":\"\",\"title\":{\"standoff\":15},\"zerolinecolor\":\"white\",\"automargin\":true,\"zerolinewidth\":2},\"yaxis\":{\"gridcolor\":\"white\",\"linecolor\":\"white\",\"ticks\":\"\",\"title\":{\"standoff\":15},\"zerolinecolor\":\"white\",\"automargin\":true,\"zerolinewidth\":2},\"scene\":{\"xaxis\":{\"backgroundcolor\":\"#E5ECF6\",\"gridcolor\":\"white\",\"linecolor\":\"white\",\"showbackground\":true,\"ticks\":\"\",\"zerolinecolor\":\"white\",\"gridwidth\":2},\"yaxis\":{\"backgroundcolor\":\"#E5ECF6\",\"gridcolor\":\"white\",\"linecolor\":\"white\",\"showbackground\":true,\"ticks\":\"\",\"zerolinecolor\":\"white\",\"gridwidth\":2},\"zaxis\":{\"backgroundcolor\":\"#E5ECF6\",\"gridcolor\":\"white\",\"linecolor\":\"white\",\"showbackground\":true,\"ticks\":\"\",\"zerolinecolor\":\"white\",\"gridwidth\":2}},\"shapedefaults\":{\"line\":{\"color\":\"#2a3f5f\"}},\"annotationdefaults\":{\"arrowcolor\":\"#2a3f5f\",\"arrowhead\":0,\"arrowwidth\":1},\"geo\":{\"bgcolor\":\"white\",\"landcolor\":\"#E5ECF6\",\"subunitcolor\":\"white\",\"showland\":true,\"showlakes\":true,\"lakecolor\":\"white\"},\"title\":{\"x\":0.05},\"mapbox\":{\"style\":\"light\"}}},\"xaxis\":{\"anchor\":\"y\",\"domain\":[0.0,1.0],\"title\":{\"text\":\"Pagado\"}},\"yaxis\":{\"anchor\":\"x\",\"domain\":[0.0,1.0],\"title\":{\"text\":\"Ingreso Neto Num\\u00e9rico\"}},\"legend\":{\"tracegroupgap\":0},\"title\":{\"text\":\"Relaci\\u00f3n entre Porcentaje de Pago y Ingreso Neto Promedio\",\"font\":{\"size\":18},\"x\":0.5}},                        {\"responsive\": true}                    )                };                            </script>        </div>"
      ],
      "text/plain": [
       "Figure({\n",
       "    'data': [{'hovertemplate': 'Pagado=%{x}<br>Ingreso Neto Numérico=%{y}<br>Ciudad MX=%{text}<extra></extra>',\n",
       "              'legendgroup': '',\n",
       "              'marker': {'color': 'blue', 'opacity': 0.8, 'size': 12, 'symbol': 'circle'},\n",
       "              'mode': 'markers+text',\n",
       "              'name': '',\n",
       "              'orientation': 'v',\n",
       "              'showlegend': False,\n",
       "              'text': array(['BAJA CALIFORNIA SUR', 'NUEVO LEÓN', 'TAMAULIPAS', 'BAJA CALIFORNIA',\n",
       "                             'CIUDAD DE MÉXICO', 'COAHUILA DE ZARAGOZA', 'CHIHUAHUA',\n",
       "                             'SAN LUIS POTOSÍ', 'ZACATECAS', 'JALISCO', 'QUINTANA ROO', 'SONORA',\n",
       "                             'MÉXICO', 'QUERÉTARO', 'COLIMA', 'GUANAJUATO', 'CHIAPAS', 'DURANGO',\n",
       "                             'AGUASCALIENTES', 'OAXACA', 'GUERRERO', 'SINALOA', 'MORELOS',\n",
       "                             'VERACRUZ DE IGNACIO DE LA LLAVE', 'TABASCO', 'TLAXCALA',\n",
       "                             'MICHOACÁN DE OCAMPO', 'HIDALGO', 'PUEBLA', 'NAYARIT', 'YUCATÁN',\n",
       "                             'CAMPECHE'], dtype=object),\n",
       "              'textposition': 'top center',\n",
       "              'type': 'scatter',\n",
       "              'x': array([0.01290323, 0.01417004, 0.01538462, 0.00770713, 0.01220107, 0.00392157,\n",
       "                          0.01253918, 0.00564972, 0.        , 0.01296928, 0.00392157, 0.01333333,\n",
       "                          0.01021356, 0.00568182, 0.01503759, 0.00435256, 0.00595238, 0.00949367,\n",
       "                          0.02072539, 0.01408451, 0.01604278, 0.00719424, 0.01497006, 0.00737463,\n",
       "                          0.00869565, 0.02094241, 0.00686499, 0.00537634, 0.0049505 , 0.00568182,\n",
       "                          0.00193798, 0.02659574]),\n",
       "              'xaxis': 'x',\n",
       "              'y': array([13187.33109677, 12174.41853239, 11492.37765812, 11256.09676301,\n",
       "                          11214.48961445, 11189.54933333, 10999.71344828, 10797.08511299,\n",
       "                          10422.39122807, 10306.19051877, 10158.43423529, 10147.86418667,\n",
       "                          10102.26164655, 10029.90047348,  9535.75218045,  9458.56065288,\n",
       "                           9376.88702381,  9153.83411392,  9077.86062176,  9045.60320423,\n",
       "                           8919.30855615,  8890.51496403,  8822.78946108,  8754.2910472 ,\n",
       "                           8671.52049275,  8472.66816754,  8463.04022883,  8334.88196237,\n",
       "                           8286.19336634,  8188.72193182,  8167.30868217,  7836.94265957]),\n",
       "              'yaxis': 'y'}],\n",
       "    'layout': {'legend': {'tracegroupgap': 0},\n",
       "               'template': '...',\n",
       "               'title': {'font': {'size': 18},\n",
       "                         'text': 'Relación entre Porcentaje de Pago y Ingreso Neto Promedio',\n",
       "                         'x': 0.5},\n",
       "               'xaxis': {'anchor': 'y', 'domain': [0.0, 1.0], 'title': {'text': 'Pagado'}},\n",
       "               'yaxis': {'anchor': 'x', 'domain': [0.0, 1.0], 'title': {'text': 'Ingreso Neto Numérico'}}}\n",
       "})"
      ]
     },
     "execution_count": 211,
     "metadata": {},
     "output_type": "execute_result"
    }
   ],
   "source": [
    "fig = px.scatter(\n",
    "    tabla_combinada,\n",
    "    x='Pagado',\n",
    "    y='Ingreso Neto Numérico',\n",
    "    text='Ciudad MX',  # Mostrar los nombres de los estados en el gráfico\n",
    "    title='Relación entre Porcentaje de Pago y Ingreso Neto Promedio',\n",
    "    labels={'Porcentaje Pago Promedio': 'Porcentaje de Pago (%)',\n",
    "            'Ingreso Neto Promedio': 'Ingreso Neto Promedio (MXN)'},\n",
    "    template='plotly'\n",
    ")\n",
    "\n",
    "# Personalizar diseño\n",
    "fig.update_traces(marker=dict(size=12, color='blue', opacity=0.8), textposition='top center')\n",
    "fig.update_layout(title_font_size=18, title_x=0.5)"
   ]
  }
 ],
 "metadata": {
  "kernelspec": {
   "display_name": "Python 3",
   "language": "python",
   "name": "python3"
  },
  "language_info": {
   "codemirror_mode": {
    "name": "ipython",
    "version": 3
   },
   "file_extension": ".py",
   "mimetype": "text/x-python",
   "name": "python",
   "nbconvert_exporter": "python",
   "pygments_lexer": "ipython3",
   "version": "3.12.8"
  }
 },
 "nbformat": 4,
 "nbformat_minor": 2
}
